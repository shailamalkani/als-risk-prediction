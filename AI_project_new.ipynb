{
  "cells": [
    {
      "cell_type": "markdown",
      "metadata": {
        "id": "view-in-github",
        "colab_type": "text"
      },
      "source": [
        "<a href=\"https://colab.research.google.com/github/shailamalkani/als-risk-prediction/blob/main/AI_project_new.ipynb\" target=\"_parent\"><img src=\"https://colab.research.google.com/assets/colab-badge.svg\" alt=\"Open In Colab\"/></a>"
      ]
    },
    {
      "cell_type": "markdown",
      "metadata": {
        "id": "HHKAFS6vSvn0"
      },
      "source": [
        "Imports and setting up\n"
      ]
    },
    {
      "cell_type": "code",
      "execution_count": null,
      "metadata": {
        "id": "GA6NoB3Zu8FG"
      },
      "outputs": [],
      "source": [
        "import pandas as pd\n",
        "import numpy as np\n",
        "from numpy import sqrt\n",
        "import sklearn\n",
        "from sklearn import preprocessing\n",
        "import os\n",
        "from google.colab import drive\n",
        "import pickle"
      ]
    },
    {
      "cell_type": "code",
      "execution_count": null,
      "metadata": {
        "colab": {
          "base_uri": "https://localhost:8080/"
        },
        "id": "lWTARPXyS0xQ",
        "outputId": "431bf724-94b2-4afc-c07a-7f8fded7b792"
      },
      "outputs": [
        {
          "name": "stdout",
          "output_type": "stream",
          "text": [
            "Mounted at /content/gdrive\n"
          ]
        }
      ],
      "source": [
        "#google drive set-up\n",
        "os.getcwd()\n",
        "drive.mount('/content/gdrive')"
      ]
    },
    {
      "cell_type": "markdown",
      "metadata": {
        "id": "wMzl2Tov1Hp-"
      },
      "source": [
        "Loading genomics data"
      ]
    },
    {
      "cell_type": "code",
      "execution_count": null,
      "metadata": {
        "colab": {
          "base_uri": "https://localhost:8080/",
          "height": 661
        },
        "id": "wamQZJAc0rZB",
        "outputId": "87804bfc-42c7-4ae9-cfc9-a829050fcd47"
      },
      "outputs": [
        {
          "data": {
            "text/html": [
              "\n",
              "  <div id=\"df-fb135ef8-80d1-4617-886c-5a88799a4a44\">\n",
              "    <div class=\"colab-df-container\">\n",
              "      <div>\n",
              "<style scoped>\n",
              "    .dataframe tbody tr th:only-of-type {\n",
              "        vertical-align: middle;\n",
              "    }\n",
              "\n",
              "    .dataframe tbody tr th {\n",
              "        vertical-align: top;\n",
              "    }\n",
              "\n",
              "    .dataframe thead th {\n",
              "        text-align: right;\n",
              "    }\n",
              "</style>\n",
              "<table border=\"1\" class=\"dataframe\">\n",
              "  <thead>\n",
              "    <tr style=\"text-align: right;\">\n",
              "      <th></th>\n",
              "      <th>rs41285790</th>\n",
              "      <th>rs772007449</th>\n",
              "      <th>rs9988179</th>\n",
              "      <th>rs28419423</th>\n",
              "      <th>rs200848321</th>\n",
              "      <th>rs751035336</th>\n",
              "      <th>rs199625867</th>\n",
              "      <th>rs145967298</th>\n",
              "      <th>rs568340123</th>\n",
              "      <th>rs745625383</th>\n",
              "      <th>...</th>\n",
              "      <th>rs758583631</th>\n",
              "      <th>rs763365685</th>\n",
              "      <th>rs28494975</th>\n",
              "      <th>rs369451370</th>\n",
              "      <th>rs141017429</th>\n",
              "      <th>rs201165738</th>\n",
              "      <th>rs3093494</th>\n",
              "      <th>rs763423994</th>\n",
              "      <th>chrX:156004509</th>\n",
              "      <th>rs150608249</th>\n",
              "    </tr>\n",
              "  </thead>\n",
              "  <tbody>\n",
              "    <tr>\n",
              "      <th>CASE-NEUMN012EVP</th>\n",
              "      <td>0.0</td>\n",
              "      <td>0.0</td>\n",
              "      <td>0.0</td>\n",
              "      <td>0.0</td>\n",
              "      <td>0.0</td>\n",
              "      <td>0.0</td>\n",
              "      <td>0.0</td>\n",
              "      <td>0.0</td>\n",
              "      <td>0.0</td>\n",
              "      <td>0.0</td>\n",
              "      <td>...</td>\n",
              "      <td>0.0</td>\n",
              "      <td>0.0</td>\n",
              "      <td>0.0</td>\n",
              "      <td>0.0</td>\n",
              "      <td>0.0</td>\n",
              "      <td>0.0</td>\n",
              "      <td>0.0</td>\n",
              "      <td>0.0</td>\n",
              "      <td>0.0</td>\n",
              "      <td>0.0</td>\n",
              "    </tr>\n",
              "    <tr>\n",
              "      <th>CASE-NEUJY426MBU</th>\n",
              "      <td>0.0</td>\n",
              "      <td>0.0</td>\n",
              "      <td>0.0</td>\n",
              "      <td>0.0</td>\n",
              "      <td>0.0</td>\n",
              "      <td>0.0</td>\n",
              "      <td>0.0</td>\n",
              "      <td>0.0</td>\n",
              "      <td>0.0</td>\n",
              "      <td>0.0</td>\n",
              "      <td>...</td>\n",
              "      <td>0.0</td>\n",
              "      <td>0.0</td>\n",
              "      <td>0.0</td>\n",
              "      <td>0.0</td>\n",
              "      <td>0.0</td>\n",
              "      <td>0.0</td>\n",
              "      <td>0.0</td>\n",
              "      <td>0.0</td>\n",
              "      <td>0.0</td>\n",
              "      <td>0.0</td>\n",
              "    </tr>\n",
              "    <tr>\n",
              "      <th>CASE-NEUTM934BPY</th>\n",
              "      <td>0.0</td>\n",
              "      <td>0.0</td>\n",
              "      <td>0.0</td>\n",
              "      <td>0.0</td>\n",
              "      <td>0.0</td>\n",
              "      <td>0.0</td>\n",
              "      <td>0.0</td>\n",
              "      <td>1.0</td>\n",
              "      <td>0.0</td>\n",
              "      <td>0.0</td>\n",
              "      <td>...</td>\n",
              "      <td>0.0</td>\n",
              "      <td>0.0</td>\n",
              "      <td>0.0</td>\n",
              "      <td>0.0</td>\n",
              "      <td>0.0</td>\n",
              "      <td>0.0</td>\n",
              "      <td>0.0</td>\n",
              "      <td>0.0</td>\n",
              "      <td>0.0</td>\n",
              "      <td>0.0</td>\n",
              "    </tr>\n",
              "    <tr>\n",
              "      <th>CASE-NEUGD965XVD</th>\n",
              "      <td>0.0</td>\n",
              "      <td>0.0</td>\n",
              "      <td>0.0</td>\n",
              "      <td>0.0</td>\n",
              "      <td>0.0</td>\n",
              "      <td>0.0</td>\n",
              "      <td>0.0</td>\n",
              "      <td>0.0</td>\n",
              "      <td>1.0</td>\n",
              "      <td>1.0</td>\n",
              "      <td>...</td>\n",
              "      <td>0.0</td>\n",
              "      <td>0.0</td>\n",
              "      <td>0.0</td>\n",
              "      <td>0.0</td>\n",
              "      <td>0.0</td>\n",
              "      <td>0.0</td>\n",
              "      <td>0.0</td>\n",
              "      <td>0.0</td>\n",
              "      <td>0.0</td>\n",
              "      <td>0.0</td>\n",
              "    </tr>\n",
              "    <tr>\n",
              "      <th>CASE-NEUJA217MTJ</th>\n",
              "      <td>0.0</td>\n",
              "      <td>0.0</td>\n",
              "      <td>0.0</td>\n",
              "      <td>0.0</td>\n",
              "      <td>0.0</td>\n",
              "      <td>0.0</td>\n",
              "      <td>0.0</td>\n",
              "      <td>0.0</td>\n",
              "      <td>0.0</td>\n",
              "      <td>0.0</td>\n",
              "      <td>...</td>\n",
              "      <td>0.0</td>\n",
              "      <td>0.0</td>\n",
              "      <td>0.0</td>\n",
              "      <td>0.0</td>\n",
              "      <td>0.0</td>\n",
              "      <td>0.0</td>\n",
              "      <td>0.0</td>\n",
              "      <td>0.0</td>\n",
              "      <td>0.0</td>\n",
              "      <td>0.0</td>\n",
              "    </tr>\n",
              "    <tr>\n",
              "      <th>...</th>\n",
              "      <td>...</td>\n",
              "      <td>...</td>\n",
              "      <td>...</td>\n",
              "      <td>...</td>\n",
              "      <td>...</td>\n",
              "      <td>...</td>\n",
              "      <td>...</td>\n",
              "      <td>...</td>\n",
              "      <td>...</td>\n",
              "      <td>...</td>\n",
              "      <td>...</td>\n",
              "      <td>...</td>\n",
              "      <td>...</td>\n",
              "      <td>...</td>\n",
              "      <td>...</td>\n",
              "      <td>...</td>\n",
              "      <td>...</td>\n",
              "      <td>...</td>\n",
              "      <td>...</td>\n",
              "      <td>...</td>\n",
              "      <td>...</td>\n",
              "    </tr>\n",
              "    <tr>\n",
              "      <th>CTRL-NEUFL840LZE</th>\n",
              "      <td>0.0</td>\n",
              "      <td>0.0</td>\n",
              "      <td>1.0</td>\n",
              "      <td>1.0</td>\n",
              "      <td>0.0</td>\n",
              "      <td>0.0</td>\n",
              "      <td>0.0</td>\n",
              "      <td>0.0</td>\n",
              "      <td>0.0</td>\n",
              "      <td>0.0</td>\n",
              "      <td>...</td>\n",
              "      <td>0.0</td>\n",
              "      <td>0.0</td>\n",
              "      <td>0.0</td>\n",
              "      <td>0.0</td>\n",
              "      <td>0.0</td>\n",
              "      <td>0.0</td>\n",
              "      <td>0.0</td>\n",
              "      <td>0.0</td>\n",
              "      <td>0.0</td>\n",
              "      <td>0.0</td>\n",
              "    </tr>\n",
              "    <tr>\n",
              "      <th>CTRL-NEUDA782GW3</th>\n",
              "      <td>0.0</td>\n",
              "      <td>0.0</td>\n",
              "      <td>0.0</td>\n",
              "      <td>0.0</td>\n",
              "      <td>0.0</td>\n",
              "      <td>0.0</td>\n",
              "      <td>0.0</td>\n",
              "      <td>0.0</td>\n",
              "      <td>0.0</td>\n",
              "      <td>0.0</td>\n",
              "      <td>...</td>\n",
              "      <td>0.0</td>\n",
              "      <td>0.0</td>\n",
              "      <td>0.0</td>\n",
              "      <td>0.0</td>\n",
              "      <td>0.0</td>\n",
              "      <td>0.0</td>\n",
              "      <td>0.0</td>\n",
              "      <td>0.0</td>\n",
              "      <td>0.0</td>\n",
              "      <td>0.0</td>\n",
              "    </tr>\n",
              "    <tr>\n",
              "      <th>CTRL-NEUNW343RXP</th>\n",
              "      <td>0.0</td>\n",
              "      <td>0.0</td>\n",
              "      <td>0.0</td>\n",
              "      <td>0.0</td>\n",
              "      <td>0.0</td>\n",
              "      <td>0.0</td>\n",
              "      <td>0.0</td>\n",
              "      <td>0.0</td>\n",
              "      <td>0.0</td>\n",
              "      <td>0.0</td>\n",
              "      <td>...</td>\n",
              "      <td>0.0</td>\n",
              "      <td>0.0</td>\n",
              "      <td>0.0</td>\n",
              "      <td>0.0</td>\n",
              "      <td>0.0</td>\n",
              "      <td>0.0</td>\n",
              "      <td>0.0</td>\n",
              "      <td>0.0</td>\n",
              "      <td>0.0</td>\n",
              "      <td>0.0</td>\n",
              "    </tr>\n",
              "    <tr>\n",
              "      <th>CASE-NEUPD674JPG</th>\n",
              "      <td>0.0</td>\n",
              "      <td>0.0</td>\n",
              "      <td>0.0</td>\n",
              "      <td>0.0</td>\n",
              "      <td>0.0</td>\n",
              "      <td>0.0</td>\n",
              "      <td>0.0</td>\n",
              "      <td>0.0</td>\n",
              "      <td>0.0</td>\n",
              "      <td>0.0</td>\n",
              "      <td>...</td>\n",
              "      <td>0.0</td>\n",
              "      <td>0.0</td>\n",
              "      <td>0.0</td>\n",
              "      <td>0.0</td>\n",
              "      <td>0.0</td>\n",
              "      <td>0.0</td>\n",
              "      <td>0.0</td>\n",
              "      <td>0.0</td>\n",
              "      <td>0.0</td>\n",
              "      <td>0.0</td>\n",
              "    </tr>\n",
              "    <tr>\n",
              "      <th>CTRL-NEUCV809LL4</th>\n",
              "      <td>0.0</td>\n",
              "      <td>0.0</td>\n",
              "      <td>0.0</td>\n",
              "      <td>0.0</td>\n",
              "      <td>0.0</td>\n",
              "      <td>0.0</td>\n",
              "      <td>0.0</td>\n",
              "      <td>0.0</td>\n",
              "      <td>1.0</td>\n",
              "      <td>1.0</td>\n",
              "      <td>...</td>\n",
              "      <td>0.0</td>\n",
              "      <td>0.0</td>\n",
              "      <td>0.0</td>\n",
              "      <td>0.0</td>\n",
              "      <td>0.0</td>\n",
              "      <td>0.0</td>\n",
              "      <td>0.0</td>\n",
              "      <td>0.0</td>\n",
              "      <td>0.0</td>\n",
              "      <td>0.0</td>\n",
              "    </tr>\n",
              "  </tbody>\n",
              "</table>\n",
              "<p>153 rows × 126813 columns</p>\n",
              "</div>\n",
              "      <button class=\"colab-df-convert\" onclick=\"convertToInteractive('df-fb135ef8-80d1-4617-886c-5a88799a4a44')\"\n",
              "              title=\"Convert this dataframe to an interactive table.\"\n",
              "              style=\"display:none;\">\n",
              "        \n",
              "  <svg xmlns=\"http://www.w3.org/2000/svg\" height=\"24px\"viewBox=\"0 0 24 24\"\n",
              "       width=\"24px\">\n",
              "    <path d=\"M0 0h24v24H0V0z\" fill=\"none\"/>\n",
              "    <path d=\"M18.56 5.44l.94 2.06.94-2.06 2.06-.94-2.06-.94-.94-2.06-.94 2.06-2.06.94zm-11 1L8.5 8.5l.94-2.06 2.06-.94-2.06-.94L8.5 2.5l-.94 2.06-2.06.94zm10 10l.94 2.06.94-2.06 2.06-.94-2.06-.94-.94-2.06-.94 2.06-2.06.94z\"/><path d=\"M17.41 7.96l-1.37-1.37c-.4-.4-.92-.59-1.43-.59-.52 0-1.04.2-1.43.59L10.3 9.45l-7.72 7.72c-.78.78-.78 2.05 0 2.83L4 21.41c.39.39.9.59 1.41.59.51 0 1.02-.2 1.41-.59l7.78-7.78 2.81-2.81c.8-.78.8-2.07 0-2.86zM5.41 20L4 18.59l7.72-7.72 1.47 1.35L5.41 20z\"/>\n",
              "  </svg>\n",
              "      </button>\n",
              "      \n",
              "  <style>\n",
              "    .colab-df-container {\n",
              "      display:flex;\n",
              "      flex-wrap:wrap;\n",
              "      gap: 12px;\n",
              "    }\n",
              "\n",
              "    .colab-df-convert {\n",
              "      background-color: #E8F0FE;\n",
              "      border: none;\n",
              "      border-radius: 50%;\n",
              "      cursor: pointer;\n",
              "      display: none;\n",
              "      fill: #1967D2;\n",
              "      height: 32px;\n",
              "      padding: 0 0 0 0;\n",
              "      width: 32px;\n",
              "    }\n",
              "\n",
              "    .colab-df-convert:hover {\n",
              "      background-color: #E2EBFA;\n",
              "      box-shadow: 0px 1px 2px rgba(60, 64, 67, 0.3), 0px 1px 3px 1px rgba(60, 64, 67, 0.15);\n",
              "      fill: #174EA6;\n",
              "    }\n",
              "\n",
              "    [theme=dark] .colab-df-convert {\n",
              "      background-color: #3B4455;\n",
              "      fill: #D2E3FC;\n",
              "    }\n",
              "\n",
              "    [theme=dark] .colab-df-convert:hover {\n",
              "      background-color: #434B5C;\n",
              "      box-shadow: 0px 1px 3px 1px rgba(0, 0, 0, 0.15);\n",
              "      filter: drop-shadow(0px 1px 2px rgba(0, 0, 0, 0.3));\n",
              "      fill: #FFFFFF;\n",
              "    }\n",
              "  </style>\n",
              "\n",
              "      <script>\n",
              "        const buttonEl =\n",
              "          document.querySelector('#df-fb135ef8-80d1-4617-886c-5a88799a4a44 button.colab-df-convert');\n",
              "        buttonEl.style.display =\n",
              "          google.colab.kernel.accessAllowed ? 'block' : 'none';\n",
              "\n",
              "        async function convertToInteractive(key) {\n",
              "          const element = document.querySelector('#df-fb135ef8-80d1-4617-886c-5a88799a4a44');\n",
              "          const dataTable =\n",
              "            await google.colab.kernel.invokeFunction('convertToInteractive',\n",
              "                                                     [key], {});\n",
              "          if (!dataTable) return;\n",
              "\n",
              "          const docLinkHtml = 'Like what you see? Visit the ' +\n",
              "            '<a target=\"_blank\" href=https://colab.research.google.com/notebooks/data_table.ipynb>data table notebook</a>'\n",
              "            + ' to learn more about interactive tables.';\n",
              "          element.innerHTML = '';\n",
              "          dataTable['output_type'] = 'display_data';\n",
              "          await google.colab.output.renderOutput(dataTable, element);\n",
              "          const docLink = document.createElement('div');\n",
              "          docLink.innerHTML = docLinkHtml;\n",
              "          element.appendChild(docLink);\n",
              "        }\n",
              "      </script>\n",
              "    </div>\n",
              "  </div>\n",
              "  "
            ],
            "text/plain": [
              "                  rs41285790  rs772007449  rs9988179  rs28419423  rs200848321  \\\n",
              "CASE-NEUMN012EVP         0.0          0.0        0.0         0.0          0.0   \n",
              "CASE-NEUJY426MBU         0.0          0.0        0.0         0.0          0.0   \n",
              "CASE-NEUTM934BPY         0.0          0.0        0.0         0.0          0.0   \n",
              "CASE-NEUGD965XVD         0.0          0.0        0.0         0.0          0.0   \n",
              "CASE-NEUJA217MTJ         0.0          0.0        0.0         0.0          0.0   \n",
              "...                      ...          ...        ...         ...          ...   \n",
              "CTRL-NEUFL840LZE         0.0          0.0        1.0         1.0          0.0   \n",
              "CTRL-NEUDA782GW3         0.0          0.0        0.0         0.0          0.0   \n",
              "CTRL-NEUNW343RXP         0.0          0.0        0.0         0.0          0.0   \n",
              "CASE-NEUPD674JPG         0.0          0.0        0.0         0.0          0.0   \n",
              "CTRL-NEUCV809LL4         0.0          0.0        0.0         0.0          0.0   \n",
              "\n",
              "                  rs751035336  rs199625867  rs145967298  rs568340123  \\\n",
              "CASE-NEUMN012EVP          0.0          0.0          0.0          0.0   \n",
              "CASE-NEUJY426MBU          0.0          0.0          0.0          0.0   \n",
              "CASE-NEUTM934BPY          0.0          0.0          1.0          0.0   \n",
              "CASE-NEUGD965XVD          0.0          0.0          0.0          1.0   \n",
              "CASE-NEUJA217MTJ          0.0          0.0          0.0          0.0   \n",
              "...                       ...          ...          ...          ...   \n",
              "CTRL-NEUFL840LZE          0.0          0.0          0.0          0.0   \n",
              "CTRL-NEUDA782GW3          0.0          0.0          0.0          0.0   \n",
              "CTRL-NEUNW343RXP          0.0          0.0          0.0          0.0   \n",
              "CASE-NEUPD674JPG          0.0          0.0          0.0          0.0   \n",
              "CTRL-NEUCV809LL4          0.0          0.0          0.0          1.0   \n",
              "\n",
              "                  rs745625383  ...  rs758583631  rs763365685  rs28494975  \\\n",
              "CASE-NEUMN012EVP          0.0  ...          0.0          0.0         0.0   \n",
              "CASE-NEUJY426MBU          0.0  ...          0.0          0.0         0.0   \n",
              "CASE-NEUTM934BPY          0.0  ...          0.0          0.0         0.0   \n",
              "CASE-NEUGD965XVD          1.0  ...          0.0          0.0         0.0   \n",
              "CASE-NEUJA217MTJ          0.0  ...          0.0          0.0         0.0   \n",
              "...                       ...  ...          ...          ...         ...   \n",
              "CTRL-NEUFL840LZE          0.0  ...          0.0          0.0         0.0   \n",
              "CTRL-NEUDA782GW3          0.0  ...          0.0          0.0         0.0   \n",
              "CTRL-NEUNW343RXP          0.0  ...          0.0          0.0         0.0   \n",
              "CASE-NEUPD674JPG          0.0  ...          0.0          0.0         0.0   \n",
              "CTRL-NEUCV809LL4          1.0  ...          0.0          0.0         0.0   \n",
              "\n",
              "                  rs369451370  rs141017429  rs201165738  rs3093494  \\\n",
              "CASE-NEUMN012EVP          0.0          0.0          0.0        0.0   \n",
              "CASE-NEUJY426MBU          0.0          0.0          0.0        0.0   \n",
              "CASE-NEUTM934BPY          0.0          0.0          0.0        0.0   \n",
              "CASE-NEUGD965XVD          0.0          0.0          0.0        0.0   \n",
              "CASE-NEUJA217MTJ          0.0          0.0          0.0        0.0   \n",
              "...                       ...          ...          ...        ...   \n",
              "CTRL-NEUFL840LZE          0.0          0.0          0.0        0.0   \n",
              "CTRL-NEUDA782GW3          0.0          0.0          0.0        0.0   \n",
              "CTRL-NEUNW343RXP          0.0          0.0          0.0        0.0   \n",
              "CASE-NEUPD674JPG          0.0          0.0          0.0        0.0   \n",
              "CTRL-NEUCV809LL4          0.0          0.0          0.0        0.0   \n",
              "\n",
              "                  rs763423994  chrX:156004509  rs150608249  \n",
              "CASE-NEUMN012EVP          0.0             0.0          0.0  \n",
              "CASE-NEUJY426MBU          0.0             0.0          0.0  \n",
              "CASE-NEUTM934BPY          0.0             0.0          0.0  \n",
              "CASE-NEUGD965XVD          0.0             0.0          0.0  \n",
              "CASE-NEUJA217MTJ          0.0             0.0          0.0  \n",
              "...                       ...             ...          ...  \n",
              "CTRL-NEUFL840LZE          0.0             0.0          0.0  \n",
              "CTRL-NEUDA782GW3          0.0             0.0          0.0  \n",
              "CTRL-NEUNW343RXP          0.0             0.0          0.0  \n",
              "CASE-NEUPD674JPG          0.0             0.0          0.0  \n",
              "CTRL-NEUCV809LL4          0.0             0.0          0.0  \n",
              "\n",
              "[153 rows x 126813 columns]"
            ]
          },
          "execution_count": 4,
          "metadata": {},
          "output_type": "execute_result"
        }
      ],
      "source": [
        "path = \"/content/gdrive/MyDrive/project data/geno_bin NEW.csv\"\n",
        "df = pd.read_csv(path, index_col=0)\n",
        "dfnew = df.T #transposing the dataframe\n",
        "dfnew"
      ]
    },
    {
      "cell_type": "markdown",
      "metadata": {
        "id": "oVShLjxX1LPC"
      },
      "source": [
        "Loading clinical data (case control)\n"
      ]
    },
    {
      "cell_type": "code",
      "execution_count": null,
      "metadata": {
        "colab": {
          "base_uri": "https://localhost:8080/",
          "height": 455
        },
        "id": "zo0elR3A1Ynn",
        "outputId": "f16cb3fb-34af-49a7-9bc9-df7969fc85d7"
      },
      "outputs": [
        {
          "data": {
            "text/html": [
              "\n",
              "  <div id=\"df-ab39f88d-6aa0-4b6a-a4f2-fdeb1c216e15\">\n",
              "    <div class=\"colab-df-container\">\n",
              "      <div>\n",
              "<style scoped>\n",
              "    .dataframe tbody tr th:only-of-type {\n",
              "        vertical-align: middle;\n",
              "    }\n",
              "\n",
              "    .dataframe tbody tr th {\n",
              "        vertical-align: top;\n",
              "    }\n",
              "\n",
              "    .dataframe thead th {\n",
              "        text-align: right;\n",
              "    }\n",
              "</style>\n",
              "<table border=\"1\" class=\"dataframe\">\n",
              "  <thead>\n",
              "    <tr style=\"text-align: right;\">\n",
              "      <th></th>\n",
              "      <th>Case_Control</th>\n",
              "    </tr>\n",
              "    <tr>\n",
              "      <th>Participant_ID</th>\n",
              "      <th></th>\n",
              "    </tr>\n",
              "  </thead>\n",
              "  <tbody>\n",
              "    <tr>\n",
              "      <th>CASE-NEUAA599TMX</th>\n",
              "      <td>1</td>\n",
              "    </tr>\n",
              "    <tr>\n",
              "      <th>CASE-NEUAB000NKC</th>\n",
              "      <td>1</td>\n",
              "    </tr>\n",
              "    <tr>\n",
              "      <th>CASE-NEUAE993EPR</th>\n",
              "      <td>1</td>\n",
              "    </tr>\n",
              "    <tr>\n",
              "      <th>CASE-NEUAF553MJ3</th>\n",
              "      <td>1</td>\n",
              "    </tr>\n",
              "    <tr>\n",
              "      <th>CASE-NEUAG603XLK</th>\n",
              "      <td>1</td>\n",
              "    </tr>\n",
              "    <tr>\n",
              "      <th>...</th>\n",
              "      <td>...</td>\n",
              "    </tr>\n",
              "    <tr>\n",
              "      <th>CTRL-NEUVZ050YX7</th>\n",
              "      <td>0</td>\n",
              "    </tr>\n",
              "    <tr>\n",
              "      <th>CTRL-NEUWT164JRQ</th>\n",
              "      <td>0</td>\n",
              "    </tr>\n",
              "    <tr>\n",
              "      <th>CTRL-NEUYM011FER</th>\n",
              "      <td>0</td>\n",
              "    </tr>\n",
              "    <tr>\n",
              "      <th>CTRL-NEUYM205MRL</th>\n",
              "      <td>0</td>\n",
              "    </tr>\n",
              "    <tr>\n",
              "      <th>CTRL-NEUZL045YD3</th>\n",
              "      <td>0</td>\n",
              "    </tr>\n",
              "  </tbody>\n",
              "</table>\n",
              "<p>170 rows × 1 columns</p>\n",
              "</div>\n",
              "      <button class=\"colab-df-convert\" onclick=\"convertToInteractive('df-ab39f88d-6aa0-4b6a-a4f2-fdeb1c216e15')\"\n",
              "              title=\"Convert this dataframe to an interactive table.\"\n",
              "              style=\"display:none;\">\n",
              "        \n",
              "  <svg xmlns=\"http://www.w3.org/2000/svg\" height=\"24px\"viewBox=\"0 0 24 24\"\n",
              "       width=\"24px\">\n",
              "    <path d=\"M0 0h24v24H0V0z\" fill=\"none\"/>\n",
              "    <path d=\"M18.56 5.44l.94 2.06.94-2.06 2.06-.94-2.06-.94-.94-2.06-.94 2.06-2.06.94zm-11 1L8.5 8.5l.94-2.06 2.06-.94-2.06-.94L8.5 2.5l-.94 2.06-2.06.94zm10 10l.94 2.06.94-2.06 2.06-.94-2.06-.94-.94-2.06-.94 2.06-2.06.94z\"/><path d=\"M17.41 7.96l-1.37-1.37c-.4-.4-.92-.59-1.43-.59-.52 0-1.04.2-1.43.59L10.3 9.45l-7.72 7.72c-.78.78-.78 2.05 0 2.83L4 21.41c.39.39.9.59 1.41.59.51 0 1.02-.2 1.41-.59l7.78-7.78 2.81-2.81c.8-.78.8-2.07 0-2.86zM5.41 20L4 18.59l7.72-7.72 1.47 1.35L5.41 20z\"/>\n",
              "  </svg>\n",
              "      </button>\n",
              "      \n",
              "  <style>\n",
              "    .colab-df-container {\n",
              "      display:flex;\n",
              "      flex-wrap:wrap;\n",
              "      gap: 12px;\n",
              "    }\n",
              "\n",
              "    .colab-df-convert {\n",
              "      background-color: #E8F0FE;\n",
              "      border: none;\n",
              "      border-radius: 50%;\n",
              "      cursor: pointer;\n",
              "      display: none;\n",
              "      fill: #1967D2;\n",
              "      height: 32px;\n",
              "      padding: 0 0 0 0;\n",
              "      width: 32px;\n",
              "    }\n",
              "\n",
              "    .colab-df-convert:hover {\n",
              "      background-color: #E2EBFA;\n",
              "      box-shadow: 0px 1px 2px rgba(60, 64, 67, 0.3), 0px 1px 3px 1px rgba(60, 64, 67, 0.15);\n",
              "      fill: #174EA6;\n",
              "    }\n",
              "\n",
              "    [theme=dark] .colab-df-convert {\n",
              "      background-color: #3B4455;\n",
              "      fill: #D2E3FC;\n",
              "    }\n",
              "\n",
              "    [theme=dark] .colab-df-convert:hover {\n",
              "      background-color: #434B5C;\n",
              "      box-shadow: 0px 1px 3px 1px rgba(0, 0, 0, 0.15);\n",
              "      filter: drop-shadow(0px 1px 2px rgba(0, 0, 0, 0.3));\n",
              "      fill: #FFFFFF;\n",
              "    }\n",
              "  </style>\n",
              "\n",
              "      <script>\n",
              "        const buttonEl =\n",
              "          document.querySelector('#df-ab39f88d-6aa0-4b6a-a4f2-fdeb1c216e15 button.colab-df-convert');\n",
              "        buttonEl.style.display =\n",
              "          google.colab.kernel.accessAllowed ? 'block' : 'none';\n",
              "\n",
              "        async function convertToInteractive(key) {\n",
              "          const element = document.querySelector('#df-ab39f88d-6aa0-4b6a-a4f2-fdeb1c216e15');\n",
              "          const dataTable =\n",
              "            await google.colab.kernel.invokeFunction('convertToInteractive',\n",
              "                                                     [key], {});\n",
              "          if (!dataTable) return;\n",
              "\n",
              "          const docLinkHtml = 'Like what you see? Visit the ' +\n",
              "            '<a target=\"_blank\" href=https://colab.research.google.com/notebooks/data_table.ipynb>data table notebook</a>'\n",
              "            + ' to learn more about interactive tables.';\n",
              "          element.innerHTML = '';\n",
              "          dataTable['output_type'] = 'display_data';\n",
              "          await google.colab.output.renderOutput(dataTable, element);\n",
              "          const docLink = document.createElement('div');\n",
              "          docLink.innerHTML = docLinkHtml;\n",
              "          element.appendChild(docLink);\n",
              "        }\n",
              "      </script>\n",
              "    </div>\n",
              "  </div>\n",
              "  "
            ],
            "text/plain": [
              "                 Case_Control\n",
              "Participant_ID               \n",
              "CASE-NEUAA599TMX            1\n",
              "CASE-NEUAB000NKC            1\n",
              "CASE-NEUAE993EPR            1\n",
              "CASE-NEUAF553MJ3            1\n",
              "CASE-NEUAG603XLK            1\n",
              "...                       ...\n",
              "CTRL-NEUVZ050YX7            0\n",
              "CTRL-NEUWT164JRQ            0\n",
              "CTRL-NEUYM011FER            0\n",
              "CTRL-NEUYM205MRL            0\n",
              "CTRL-NEUZL045YD3            0\n",
              "\n",
              "[170 rows x 1 columns]"
            ]
          },
          "execution_count": 5,
          "metadata": {},
          "output_type": "execute_result"
        }
      ],
      "source": [
        "#loading data and changing the format\n",
        "clinical_data = \"/content/gdrive/MyDrive/project data/aals_participants.csv\"\n",
        "clinical_df = pd.read_csv(clinical_data)\n",
        "clinical_df = clinical_df.replace(['Healthy Control','Case'],['0','1'])\n",
        "clinical_df = clinical_df.drop([\"GUID\", \"Sex\", \"Cohort\", \"Diagnosis\", \"Enrollment Status\", \"Notes\"], axis=1).set_index(\"Participant_ID\")\n",
        "clinical_df\n"
      ]
    },
    {
      "cell_type": "code",
      "execution_count": null,
      "metadata": {
        "colab": {
          "base_uri": "https://localhost:8080/"
        },
        "id": "5NOqp4E5WRkH",
        "outputId": "5bf8043f-d1d2-49ac-8f29-a8c7f4974111"
      },
      "outputs": [
        {
          "name": "stdout",
          "output_type": "stream",
          "text": [
            "(153, 1)\n"
          ]
        },
        {
          "data": {
            "text/plain": [
              "1    138\n",
              "0     32\n",
              "Name: Case_Control, dtype: int64"
            ]
          },
          "execution_count": 6,
          "metadata": {},
          "output_type": "execute_result"
        }
      ],
      "source": [
        "#subsetting the dataframe and aligning geno bin df with clinical df\n",
        "subset_clinical_df = clinical_df.loc[dfnew.index]\n",
        "print(subset_clinical_df.shape)\n",
        "clinical_df[\"Case_Control\"].value_counts()\n"
      ]
    },
    {
      "cell_type": "markdown",
      "metadata": {
        "id": "rbtZpVN8ABh8"
      },
      "source": [
        "Summary statistics from project mine\n"
      ]
    },
    {
      "cell_type": "code",
      "execution_count": null,
      "metadata": {
        "colab": {
          "base_uri": "https://localhost:8080/",
          "height": 424
        },
        "id": "b9aNXobOeGqW",
        "outputId": "fbf04d06-c8c9-4928-8efe-72251af367e4"
      },
      "outputs": [
        {
          "data": {
            "text/html": [
              "\n",
              "  <div id=\"df-20073edb-549d-407f-82cd-f9995ce64fd9\">\n",
              "    <div class=\"colab-df-container\">\n",
              "      <div>\n",
              "<style scoped>\n",
              "    .dataframe tbody tr th:only-of-type {\n",
              "        vertical-align: middle;\n",
              "    }\n",
              "\n",
              "    .dataframe tbody tr th {\n",
              "        vertical-align: top;\n",
              "    }\n",
              "\n",
              "    .dataframe thead th {\n",
              "        text-align: right;\n",
              "    }\n",
              "</style>\n",
              "<table border=\"1\" class=\"dataframe\">\n",
              "  <thead>\n",
              "    <tr style=\"text-align: right;\">\n",
              "      <th></th>\n",
              "      <th>chr snp bp a1 a2 freq b se p</th>\n",
              "    </tr>\n",
              "  </thead>\n",
              "  <tbody>\n",
              "    <tr>\n",
              "      <th>0</th>\n",
              "      <td>1 rs16841029 165176498 C G 0.904652 0.00565004...</td>\n",
              "    </tr>\n",
              "    <tr>\n",
              "      <th>1</th>\n",
              "      <td>1 rs58325639 188816626 C T 0.968803 -0.0186183...</td>\n",
              "    </tr>\n",
              "    <tr>\n",
              "      <th>2</th>\n",
              "      <td>1 rs1146577 76203863 T G 0.0708967 0.00845506 ...</td>\n",
              "    </tr>\n",
              "    <tr>\n",
              "      <th>3</th>\n",
              "      <td>1 rs141439997 24529644 C T 0.886252 -0.0063171...</td>\n",
              "    </tr>\n",
              "    <tr>\n",
              "      <th>4</th>\n",
              "      <td>1 rs2187876 172566232 A G 0.430701 -0.00398566...</td>\n",
              "    </tr>\n",
              "    <tr>\n",
              "      <th>...</th>\n",
              "      <td>...</td>\n",
              "    </tr>\n",
              "    <tr>\n",
              "      <th>591969</th>\n",
              "      <td>1 rs57858001 40262102 AC A 0.916867 0.00472555...</td>\n",
              "    </tr>\n",
              "    <tr>\n",
              "      <th>591970</th>\n",
              "      <td>1 rs2209098 172167226 T C 0.676529 -0.00729161...</td>\n",
              "    </tr>\n",
              "    <tr>\n",
              "      <th>591971</th>\n",
              "      <td>1 rs150103137 164985805 T G 0.976038 -0.003813...</td>\n",
              "    </tr>\n",
              "    <tr>\n",
              "      <th>591972</th>\n",
              "      <td>1 rs17593673 235100334 A T 0.893075 0.00600699...</td>\n",
              "    </tr>\n",
              "    <tr>\n",
              "      <th>591973</th>\n",
              "      <td>1 rs1050334 62703236 A C 0.68913 -0.00392422 0...</td>\n",
              "    </tr>\n",
              "  </tbody>\n",
              "</table>\n",
              "<p>591974 rows × 1 columns</p>\n",
              "</div>\n",
              "      <button class=\"colab-df-convert\" onclick=\"convertToInteractive('df-20073edb-549d-407f-82cd-f9995ce64fd9')\"\n",
              "              title=\"Convert this dataframe to an interactive table.\"\n",
              "              style=\"display:none;\">\n",
              "        \n",
              "  <svg xmlns=\"http://www.w3.org/2000/svg\" height=\"24px\"viewBox=\"0 0 24 24\"\n",
              "       width=\"24px\">\n",
              "    <path d=\"M0 0h24v24H0V0z\" fill=\"none\"/>\n",
              "    <path d=\"M18.56 5.44l.94 2.06.94-2.06 2.06-.94-2.06-.94-.94-2.06-.94 2.06-2.06.94zm-11 1L8.5 8.5l.94-2.06 2.06-.94-2.06-.94L8.5 2.5l-.94 2.06-2.06.94zm10 10l.94 2.06.94-2.06 2.06-.94-2.06-.94-.94-2.06-.94 2.06-2.06.94z\"/><path d=\"M17.41 7.96l-1.37-1.37c-.4-.4-.92-.59-1.43-.59-.52 0-1.04.2-1.43.59L10.3 9.45l-7.72 7.72c-.78.78-.78 2.05 0 2.83L4 21.41c.39.39.9.59 1.41.59.51 0 1.02-.2 1.41-.59l7.78-7.78 2.81-2.81c.8-.78.8-2.07 0-2.86zM5.41 20L4 18.59l7.72-7.72 1.47 1.35L5.41 20z\"/>\n",
              "  </svg>\n",
              "      </button>\n",
              "      \n",
              "  <style>\n",
              "    .colab-df-container {\n",
              "      display:flex;\n",
              "      flex-wrap:wrap;\n",
              "      gap: 12px;\n",
              "    }\n",
              "\n",
              "    .colab-df-convert {\n",
              "      background-color: #E8F0FE;\n",
              "      border: none;\n",
              "      border-radius: 50%;\n",
              "      cursor: pointer;\n",
              "      display: none;\n",
              "      fill: #1967D2;\n",
              "      height: 32px;\n",
              "      padding: 0 0 0 0;\n",
              "      width: 32px;\n",
              "    }\n",
              "\n",
              "    .colab-df-convert:hover {\n",
              "      background-color: #E2EBFA;\n",
              "      box-shadow: 0px 1px 2px rgba(60, 64, 67, 0.3), 0px 1px 3px 1px rgba(60, 64, 67, 0.15);\n",
              "      fill: #174EA6;\n",
              "    }\n",
              "\n",
              "    [theme=dark] .colab-df-convert {\n",
              "      background-color: #3B4455;\n",
              "      fill: #D2E3FC;\n",
              "    }\n",
              "\n",
              "    [theme=dark] .colab-df-convert:hover {\n",
              "      background-color: #434B5C;\n",
              "      box-shadow: 0px 1px 3px 1px rgba(0, 0, 0, 0.15);\n",
              "      filter: drop-shadow(0px 1px 2px rgba(0, 0, 0, 0.3));\n",
              "      fill: #FFFFFF;\n",
              "    }\n",
              "  </style>\n",
              "\n",
              "      <script>\n",
              "        const buttonEl =\n",
              "          document.querySelector('#df-20073edb-549d-407f-82cd-f9995ce64fd9 button.colab-df-convert');\n",
              "        buttonEl.style.display =\n",
              "          google.colab.kernel.accessAllowed ? 'block' : 'none';\n",
              "\n",
              "        async function convertToInteractive(key) {\n",
              "          const element = document.querySelector('#df-20073edb-549d-407f-82cd-f9995ce64fd9');\n",
              "          const dataTable =\n",
              "            await google.colab.kernel.invokeFunction('convertToInteractive',\n",
              "                                                     [key], {});\n",
              "          if (!dataTable) return;\n",
              "\n",
              "          const docLinkHtml = 'Like what you see? Visit the ' +\n",
              "            '<a target=\"_blank\" href=https://colab.research.google.com/notebooks/data_table.ipynb>data table notebook</a>'\n",
              "            + ' to learn more about interactive tables.';\n",
              "          element.innerHTML = '';\n",
              "          dataTable['output_type'] = 'display_data';\n",
              "          await google.colab.output.renderOutput(dataTable, element);\n",
              "          const docLink = document.createElement('div');\n",
              "          docLink.innerHTML = docLinkHtml;\n",
              "          element.appendChild(docLink);\n",
              "        }\n",
              "      </script>\n",
              "    </div>\n",
              "  </div>\n",
              "  "
            ],
            "text/plain": [
              "                             chr snp bp a1 a2 freq b se p\n",
              "0       1 rs16841029 165176498 C G 0.904652 0.00565004...\n",
              "1       1 rs58325639 188816626 C T 0.968803 -0.0186183...\n",
              "2       1 rs1146577 76203863 T G 0.0708967 0.00845506 ...\n",
              "3       1 rs141439997 24529644 C T 0.886252 -0.0063171...\n",
              "4       1 rs2187876 172566232 A G 0.430701 -0.00398566...\n",
              "...                                                   ...\n",
              "591969  1 rs57858001 40262102 AC A 0.916867 0.00472555...\n",
              "591970  1 rs2209098 172167226 T C 0.676529 -0.00729161...\n",
              "591971  1 rs150103137 164985805 T G 0.976038 -0.003813...\n",
              "591972  1 rs17593673 235100334 A T 0.893075 0.00600699...\n",
              "591973  1 rs1050334 62703236 A C 0.68913 -0.00392422 0...\n",
              "\n",
              "[591974 rows x 1 columns]"
            ]
          },
          "execution_count": 7,
          "metadata": {},
          "output_type": "execute_result"
        }
      ],
      "source": [
        "#testing to see format of data\n",
        "\n",
        "path4 = \"/content/gdrive/MyDrive/project data/summary_statistics/als.sumstats.lmm.chr1.csv\"\n",
        "testdf = pd.read_csv(path4)\n",
        "testdf"
      ]
    },
    {
      "cell_type": "markdown",
      "metadata": {
        "id": "OMDywW0hjCLO"
      },
      "source": [
        "Concatenate all csv files into one master file"
      ]
    },
    {
      "cell_type": "code",
      "execution_count": null,
      "metadata": {
        "colab": {
          "base_uri": "https://localhost:8080/",
          "height": 424
        },
        "id": "e6LWZsmRhoAs",
        "outputId": "fd8e51fa-c991-44a2-a6ed-c127e420017e"
      },
      "outputs": [
        {
          "data": {
            "text/html": [
              "\n",
              "  <div id=\"df-28b562f4-5f57-420e-890c-038f3961093a\">\n",
              "    <div class=\"colab-df-container\">\n",
              "      <div>\n",
              "<style scoped>\n",
              "    .dataframe tbody tr th:only-of-type {\n",
              "        vertical-align: middle;\n",
              "    }\n",
              "\n",
              "    .dataframe tbody tr th {\n",
              "        vertical-align: top;\n",
              "    }\n",
              "\n",
              "    .dataframe thead th {\n",
              "        text-align: right;\n",
              "    }\n",
              "</style>\n",
              "<table border=\"1\" class=\"dataframe\">\n",
              "  <thead>\n",
              "    <tr style=\"text-align: right;\">\n",
              "      <th></th>\n",
              "      <th>chr</th>\n",
              "      <th>snp</th>\n",
              "      <th>bp</th>\n",
              "      <th>a1</th>\n",
              "      <th>a2</th>\n",
              "      <th>freq</th>\n",
              "      <th>b</th>\n",
              "      <th>se</th>\n",
              "      <th>p</th>\n",
              "    </tr>\n",
              "  </thead>\n",
              "  <tbody>\n",
              "    <tr>\n",
              "      <th>0</th>\n",
              "      <td>2</td>\n",
              "      <td>rs140845162</td>\n",
              "      <td>16269545</td>\n",
              "      <td>C</td>\n",
              "      <td>T</td>\n",
              "      <td>0.956344</td>\n",
              "      <td>0.016675</td>\n",
              "      <td>0.010385</td>\n",
              "      <td>0.108355</td>\n",
              "    </tr>\n",
              "    <tr>\n",
              "      <th>1</th>\n",
              "      <td>2</td>\n",
              "      <td>rs111472651</td>\n",
              "      <td>44117788</td>\n",
              "      <td>C</td>\n",
              "      <td>G</td>\n",
              "      <td>0.945557</td>\n",
              "      <td>0.005135</td>\n",
              "      <td>0.007671</td>\n",
              "      <td>0.503209</td>\n",
              "    </tr>\n",
              "    <tr>\n",
              "      <th>2</th>\n",
              "      <td>2</td>\n",
              "      <td>rs62195046</td>\n",
              "      <td>206819964</td>\n",
              "      <td>C</td>\n",
              "      <td>T</td>\n",
              "      <td>0.809910</td>\n",
              "      <td>0.002249</td>\n",
              "      <td>0.004694</td>\n",
              "      <td>0.631809</td>\n",
              "    </tr>\n",
              "    <tr>\n",
              "      <th>3</th>\n",
              "      <td>2</td>\n",
              "      <td>rs7593161</td>\n",
              "      <td>156016188</td>\n",
              "      <td>C</td>\n",
              "      <td>G</td>\n",
              "      <td>0.789322</td>\n",
              "      <td>0.001804</td>\n",
              "      <td>0.004204</td>\n",
              "      <td>0.667875</td>\n",
              "    </tr>\n",
              "    <tr>\n",
              "      <th>4</th>\n",
              "      <td>2</td>\n",
              "      <td>rs62154378</td>\n",
              "      <td>122666713</td>\n",
              "      <td>G</td>\n",
              "      <td>A</td>\n",
              "      <td>0.727896</td>\n",
              "      <td>0.001787</td>\n",
              "      <td>0.003850</td>\n",
              "      <td>0.642534</td>\n",
              "    </tr>\n",
              "    <tr>\n",
              "      <th>...</th>\n",
              "      <td>...</td>\n",
              "      <td>...</td>\n",
              "      <td>...</td>\n",
              "      <td>...</td>\n",
              "      <td>...</td>\n",
              "      <td>...</td>\n",
              "      <td>...</td>\n",
              "      <td>...</td>\n",
              "      <td>...</td>\n",
              "    </tr>\n",
              "    <tr>\n",
              "      <th>7740339</th>\n",
              "      <td>1</td>\n",
              "      <td>rs57858001</td>\n",
              "      <td>40262102</td>\n",
              "      <td>AC</td>\n",
              "      <td>A</td>\n",
              "      <td>0.916867</td>\n",
              "      <td>0.004726</td>\n",
              "      <td>0.006415</td>\n",
              "      <td>0.461350</td>\n",
              "    </tr>\n",
              "    <tr>\n",
              "      <th>7740340</th>\n",
              "      <td>1</td>\n",
              "      <td>rs2209098</td>\n",
              "      <td>172167226</td>\n",
              "      <td>T</td>\n",
              "      <td>C</td>\n",
              "      <td>0.676529</td>\n",
              "      <td>-0.007292</td>\n",
              "      <td>0.003679</td>\n",
              "      <td>0.047512</td>\n",
              "    </tr>\n",
              "    <tr>\n",
              "      <th>7740341</th>\n",
              "      <td>1</td>\n",
              "      <td>rs150103137</td>\n",
              "      <td>164985805</td>\n",
              "      <td>T</td>\n",
              "      <td>G</td>\n",
              "      <td>0.976038</td>\n",
              "      <td>-0.003813</td>\n",
              "      <td>0.011393</td>\n",
              "      <td>0.737845</td>\n",
              "    </tr>\n",
              "    <tr>\n",
              "      <th>7740342</th>\n",
              "      <td>1</td>\n",
              "      <td>rs17593673</td>\n",
              "      <td>235100334</td>\n",
              "      <td>A</td>\n",
              "      <td>T</td>\n",
              "      <td>0.893075</td>\n",
              "      <td>0.006007</td>\n",
              "      <td>0.005698</td>\n",
              "      <td>0.291775</td>\n",
              "    </tr>\n",
              "    <tr>\n",
              "      <th>7740343</th>\n",
              "      <td>1</td>\n",
              "      <td>rs1050334</td>\n",
              "      <td>62703236</td>\n",
              "      <td>A</td>\n",
              "      <td>C</td>\n",
              "      <td>0.689130</td>\n",
              "      <td>-0.003924</td>\n",
              "      <td>0.003721</td>\n",
              "      <td>0.291610</td>\n",
              "    </tr>\n",
              "  </tbody>\n",
              "</table>\n",
              "<p>7740344 rows × 9 columns</p>\n",
              "</div>\n",
              "      <button class=\"colab-df-convert\" onclick=\"convertToInteractive('df-28b562f4-5f57-420e-890c-038f3961093a')\"\n",
              "              title=\"Convert this dataframe to an interactive table.\"\n",
              "              style=\"display:none;\">\n",
              "        \n",
              "  <svg xmlns=\"http://www.w3.org/2000/svg\" height=\"24px\"viewBox=\"0 0 24 24\"\n",
              "       width=\"24px\">\n",
              "    <path d=\"M0 0h24v24H0V0z\" fill=\"none\"/>\n",
              "    <path d=\"M18.56 5.44l.94 2.06.94-2.06 2.06-.94-2.06-.94-.94-2.06-.94 2.06-2.06.94zm-11 1L8.5 8.5l.94-2.06 2.06-.94-2.06-.94L8.5 2.5l-.94 2.06-2.06.94zm10 10l.94 2.06.94-2.06 2.06-.94-2.06-.94-.94-2.06-.94 2.06-2.06.94z\"/><path d=\"M17.41 7.96l-1.37-1.37c-.4-.4-.92-.59-1.43-.59-.52 0-1.04.2-1.43.59L10.3 9.45l-7.72 7.72c-.78.78-.78 2.05 0 2.83L4 21.41c.39.39.9.59 1.41.59.51 0 1.02-.2 1.41-.59l7.78-7.78 2.81-2.81c.8-.78.8-2.07 0-2.86zM5.41 20L4 18.59l7.72-7.72 1.47 1.35L5.41 20z\"/>\n",
              "  </svg>\n",
              "      </button>\n",
              "      \n",
              "  <style>\n",
              "    .colab-df-container {\n",
              "      display:flex;\n",
              "      flex-wrap:wrap;\n",
              "      gap: 12px;\n",
              "    }\n",
              "\n",
              "    .colab-df-convert {\n",
              "      background-color: #E8F0FE;\n",
              "      border: none;\n",
              "      border-radius: 50%;\n",
              "      cursor: pointer;\n",
              "      display: none;\n",
              "      fill: #1967D2;\n",
              "      height: 32px;\n",
              "      padding: 0 0 0 0;\n",
              "      width: 32px;\n",
              "    }\n",
              "\n",
              "    .colab-df-convert:hover {\n",
              "      background-color: #E2EBFA;\n",
              "      box-shadow: 0px 1px 2px rgba(60, 64, 67, 0.3), 0px 1px 3px 1px rgba(60, 64, 67, 0.15);\n",
              "      fill: #174EA6;\n",
              "    }\n",
              "\n",
              "    [theme=dark] .colab-df-convert {\n",
              "      background-color: #3B4455;\n",
              "      fill: #D2E3FC;\n",
              "    }\n",
              "\n",
              "    [theme=dark] .colab-df-convert:hover {\n",
              "      background-color: #434B5C;\n",
              "      box-shadow: 0px 1px 3px 1px rgba(0, 0, 0, 0.15);\n",
              "      filter: drop-shadow(0px 1px 2px rgba(0, 0, 0, 0.3));\n",
              "      fill: #FFFFFF;\n",
              "    }\n",
              "  </style>\n",
              "\n",
              "      <script>\n",
              "        const buttonEl =\n",
              "          document.querySelector('#df-28b562f4-5f57-420e-890c-038f3961093a button.colab-df-convert');\n",
              "        buttonEl.style.display =\n",
              "          google.colab.kernel.accessAllowed ? 'block' : 'none';\n",
              "\n",
              "        async function convertToInteractive(key) {\n",
              "          const element = document.querySelector('#df-28b562f4-5f57-420e-890c-038f3961093a');\n",
              "          const dataTable =\n",
              "            await google.colab.kernel.invokeFunction('convertToInteractive',\n",
              "                                                     [key], {});\n",
              "          if (!dataTable) return;\n",
              "\n",
              "          const docLinkHtml = 'Like what you see? Visit the ' +\n",
              "            '<a target=\"_blank\" href=https://colab.research.google.com/notebooks/data_table.ipynb>data table notebook</a>'\n",
              "            + ' to learn more about interactive tables.';\n",
              "          element.innerHTML = '';\n",
              "          dataTable['output_type'] = 'display_data';\n",
              "          await google.colab.output.renderOutput(dataTable, element);\n",
              "          const docLink = document.createElement('div');\n",
              "          docLink.innerHTML = docLinkHtml;\n",
              "          element.appendChild(docLink);\n",
              "        }\n",
              "      </script>\n",
              "    </div>\n",
              "  </div>\n",
              "  "
            ],
            "text/plain": [
              "         chr          snp         bp  a1 a2      freq         b        se  \\\n",
              "0          2  rs140845162   16269545   C  T  0.956344  0.016675  0.010385   \n",
              "1          2  rs111472651   44117788   C  G  0.945557  0.005135  0.007671   \n",
              "2          2   rs62195046  206819964   C  T  0.809910  0.002249  0.004694   \n",
              "3          2    rs7593161  156016188   C  G  0.789322  0.001804  0.004204   \n",
              "4          2   rs62154378  122666713   G  A  0.727896  0.001787  0.003850   \n",
              "...      ...          ...        ...  .. ..       ...       ...       ...   \n",
              "7740339    1   rs57858001   40262102  AC  A  0.916867  0.004726  0.006415   \n",
              "7740340    1    rs2209098  172167226   T  C  0.676529 -0.007292  0.003679   \n",
              "7740341    1  rs150103137  164985805   T  G  0.976038 -0.003813  0.011393   \n",
              "7740342    1   rs17593673  235100334   A  T  0.893075  0.006007  0.005698   \n",
              "7740343    1    rs1050334   62703236   A  C  0.689130 -0.003924  0.003721   \n",
              "\n",
              "                p  \n",
              "0        0.108355  \n",
              "1        0.503209  \n",
              "2        0.631809  \n",
              "3        0.667875  \n",
              "4        0.642534  \n",
              "...           ...  \n",
              "7740339  0.461350  \n",
              "7740340  0.047512  \n",
              "7740341  0.737845  \n",
              "7740342  0.291775  \n",
              "7740343  0.291610  \n",
              "\n",
              "[7740344 rows x 9 columns]"
            ]
          },
          "execution_count": 8,
          "metadata": {},
          "output_type": "execute_result"
        }
      ],
      "source": [
        "import glob\n",
        "\n",
        "path = r'/content/gdrive/MyDrive/project data/summary_statistics'                     \n",
        "all_files = glob.glob(os.path.join(path, \"*.csv\"))     \n",
        "df_from_each_file = (pd.read_csv(f, delim_whitespace=True) for f in all_files)\n",
        "concatenated_df   = pd.concat(df_from_each_file, ignore_index=True)\n",
        "concatenated_df"
      ]
    },
    {
      "cell_type": "code",
      "execution_count": null,
      "metadata": {
        "colab": {
          "base_uri": "https://localhost:8080/",
          "height": 455
        },
        "id": "cls0wYx4zXHA",
        "outputId": "b4b1f560-c702-45d6-d5d5-915501200823"
      },
      "outputs": [
        {
          "data": {
            "text/html": [
              "\n",
              "  <div id=\"df-1c511429-f754-498e-8c8b-24e571cf775e\">\n",
              "    <div class=\"colab-df-container\">\n",
              "      <div>\n",
              "<style scoped>\n",
              "    .dataframe tbody tr th:only-of-type {\n",
              "        vertical-align: middle;\n",
              "    }\n",
              "\n",
              "    .dataframe tbody tr th {\n",
              "        vertical-align: top;\n",
              "    }\n",
              "\n",
              "    .dataframe thead th {\n",
              "        text-align: right;\n",
              "    }\n",
              "</style>\n",
              "<table border=\"1\" class=\"dataframe\">\n",
              "  <thead>\n",
              "    <tr style=\"text-align: right;\">\n",
              "      <th></th>\n",
              "      <th>p</th>\n",
              "    </tr>\n",
              "    <tr>\n",
              "      <th>snp</th>\n",
              "      <th></th>\n",
              "    </tr>\n",
              "  </thead>\n",
              "  <tbody>\n",
              "    <tr>\n",
              "      <th>rs140845162</th>\n",
              "      <td>0.108355</td>\n",
              "    </tr>\n",
              "    <tr>\n",
              "      <th>rs111472651</th>\n",
              "      <td>0.503209</td>\n",
              "    </tr>\n",
              "    <tr>\n",
              "      <th>rs62195046</th>\n",
              "      <td>0.631809</td>\n",
              "    </tr>\n",
              "    <tr>\n",
              "      <th>rs7593161</th>\n",
              "      <td>0.667875</td>\n",
              "    </tr>\n",
              "    <tr>\n",
              "      <th>rs62154378</th>\n",
              "      <td>0.642534</td>\n",
              "    </tr>\n",
              "    <tr>\n",
              "      <th>...</th>\n",
              "      <td>...</td>\n",
              "    </tr>\n",
              "    <tr>\n",
              "      <th>rs57858001</th>\n",
              "      <td>0.461350</td>\n",
              "    </tr>\n",
              "    <tr>\n",
              "      <th>rs2209098</th>\n",
              "      <td>0.047512</td>\n",
              "    </tr>\n",
              "    <tr>\n",
              "      <th>rs150103137</th>\n",
              "      <td>0.737845</td>\n",
              "    </tr>\n",
              "    <tr>\n",
              "      <th>rs17593673</th>\n",
              "      <td>0.291775</td>\n",
              "    </tr>\n",
              "    <tr>\n",
              "      <th>rs1050334</th>\n",
              "      <td>0.291610</td>\n",
              "    </tr>\n",
              "  </tbody>\n",
              "</table>\n",
              "<p>7740344 rows × 1 columns</p>\n",
              "</div>\n",
              "      <button class=\"colab-df-convert\" onclick=\"convertToInteractive('df-1c511429-f754-498e-8c8b-24e571cf775e')\"\n",
              "              title=\"Convert this dataframe to an interactive table.\"\n",
              "              style=\"display:none;\">\n",
              "        \n",
              "  <svg xmlns=\"http://www.w3.org/2000/svg\" height=\"24px\"viewBox=\"0 0 24 24\"\n",
              "       width=\"24px\">\n",
              "    <path d=\"M0 0h24v24H0V0z\" fill=\"none\"/>\n",
              "    <path d=\"M18.56 5.44l.94 2.06.94-2.06 2.06-.94-2.06-.94-.94-2.06-.94 2.06-2.06.94zm-11 1L8.5 8.5l.94-2.06 2.06-.94-2.06-.94L8.5 2.5l-.94 2.06-2.06.94zm10 10l.94 2.06.94-2.06 2.06-.94-2.06-.94-.94-2.06-.94 2.06-2.06.94z\"/><path d=\"M17.41 7.96l-1.37-1.37c-.4-.4-.92-.59-1.43-.59-.52 0-1.04.2-1.43.59L10.3 9.45l-7.72 7.72c-.78.78-.78 2.05 0 2.83L4 21.41c.39.39.9.59 1.41.59.51 0 1.02-.2 1.41-.59l7.78-7.78 2.81-2.81c.8-.78.8-2.07 0-2.86zM5.41 20L4 18.59l7.72-7.72 1.47 1.35L5.41 20z\"/>\n",
              "  </svg>\n",
              "      </button>\n",
              "      \n",
              "  <style>\n",
              "    .colab-df-container {\n",
              "      display:flex;\n",
              "      flex-wrap:wrap;\n",
              "      gap: 12px;\n",
              "    }\n",
              "\n",
              "    .colab-df-convert {\n",
              "      background-color: #E8F0FE;\n",
              "      border: none;\n",
              "      border-radius: 50%;\n",
              "      cursor: pointer;\n",
              "      display: none;\n",
              "      fill: #1967D2;\n",
              "      height: 32px;\n",
              "      padding: 0 0 0 0;\n",
              "      width: 32px;\n",
              "    }\n",
              "\n",
              "    .colab-df-convert:hover {\n",
              "      background-color: #E2EBFA;\n",
              "      box-shadow: 0px 1px 2px rgba(60, 64, 67, 0.3), 0px 1px 3px 1px rgba(60, 64, 67, 0.15);\n",
              "      fill: #174EA6;\n",
              "    }\n",
              "\n",
              "    [theme=dark] .colab-df-convert {\n",
              "      background-color: #3B4455;\n",
              "      fill: #D2E3FC;\n",
              "    }\n",
              "\n",
              "    [theme=dark] .colab-df-convert:hover {\n",
              "      background-color: #434B5C;\n",
              "      box-shadow: 0px 1px 3px 1px rgba(0, 0, 0, 0.15);\n",
              "      filter: drop-shadow(0px 1px 2px rgba(0, 0, 0, 0.3));\n",
              "      fill: #FFFFFF;\n",
              "    }\n",
              "  </style>\n",
              "\n",
              "      <script>\n",
              "        const buttonEl =\n",
              "          document.querySelector('#df-1c511429-f754-498e-8c8b-24e571cf775e button.colab-df-convert');\n",
              "        buttonEl.style.display =\n",
              "          google.colab.kernel.accessAllowed ? 'block' : 'none';\n",
              "\n",
              "        async function convertToInteractive(key) {\n",
              "          const element = document.querySelector('#df-1c511429-f754-498e-8c8b-24e571cf775e');\n",
              "          const dataTable =\n",
              "            await google.colab.kernel.invokeFunction('convertToInteractive',\n",
              "                                                     [key], {});\n",
              "          if (!dataTable) return;\n",
              "\n",
              "          const docLinkHtml = 'Like what you see? Visit the ' +\n",
              "            '<a target=\"_blank\" href=https://colab.research.google.com/notebooks/data_table.ipynb>data table notebook</a>'\n",
              "            + ' to learn more about interactive tables.';\n",
              "          element.innerHTML = '';\n",
              "          dataTable['output_type'] = 'display_data';\n",
              "          await google.colab.output.renderOutput(dataTable, element);\n",
              "          const docLink = document.createElement('div');\n",
              "          docLink.innerHTML = docLinkHtml;\n",
              "          element.appendChild(docLink);\n",
              "        }\n",
              "      </script>\n",
              "    </div>\n",
              "  </div>\n",
              "  "
            ],
            "text/plain": [
              "                    p\n",
              "snp                  \n",
              "rs140845162  0.108355\n",
              "rs111472651  0.503209\n",
              "rs62195046   0.631809\n",
              "rs7593161    0.667875\n",
              "rs62154378   0.642534\n",
              "...               ...\n",
              "rs57858001   0.461350\n",
              "rs2209098    0.047512\n",
              "rs150103137  0.737845\n",
              "rs17593673   0.291775\n",
              "rs1050334    0.291610\n",
              "\n",
              "[7740344 rows x 1 columns]"
            ]
          },
          "execution_count": 9,
          "metadata": {},
          "output_type": "execute_result"
        }
      ],
      "source": [
        "snp_df = concatenated_df.drop([\"chr\", \"a1\", \"a2\", \"freq\", \"bp\", \"b\", \"se\"], axis=1)\n",
        "snp_df\n",
        "snp_df_indexed = snp_df.set_index('snp') #setting index as the snp column\n",
        "snp_df_indexed"
      ]
    },
    {
      "cell_type": "code",
      "execution_count": null,
      "metadata": {
        "colab": {
          "base_uri": "https://localhost:8080/",
          "height": 455
        },
        "id": "V3PtP_HRdHsc",
        "outputId": "56e23272-9da6-49aa-ae24-b39a799838bd"
      },
      "outputs": [
        {
          "data": {
            "text/html": [
              "\n",
              "  <div id=\"df-63337ad7-cea0-4fe8-b75c-ba9c8dd62580\">\n",
              "    <div class=\"colab-df-container\">\n",
              "      <div>\n",
              "<style scoped>\n",
              "    .dataframe tbody tr th:only-of-type {\n",
              "        vertical-align: middle;\n",
              "    }\n",
              "\n",
              "    .dataframe tbody tr th {\n",
              "        vertical-align: top;\n",
              "    }\n",
              "\n",
              "    .dataframe thead th {\n",
              "        text-align: right;\n",
              "    }\n",
              "</style>\n",
              "<table border=\"1\" class=\"dataframe\">\n",
              "  <thead>\n",
              "    <tr style=\"text-align: right;\">\n",
              "      <th></th>\n",
              "      <th>p</th>\n",
              "    </tr>\n",
              "    <tr>\n",
              "      <th>snp</th>\n",
              "      <th></th>\n",
              "    </tr>\n",
              "  </thead>\n",
              "  <tbody>\n",
              "    <tr>\n",
              "      <th>rs61730415</th>\n",
              "      <td>0.595980</td>\n",
              "    </tr>\n",
              "    <tr>\n",
              "      <th>rs35495464</th>\n",
              "      <td>0.329128</td>\n",
              "    </tr>\n",
              "    <tr>\n",
              "      <th>rs2230370</th>\n",
              "      <td>0.638604</td>\n",
              "    </tr>\n",
              "    <tr>\n",
              "      <th>rs56038532</th>\n",
              "      <td>0.733988</td>\n",
              "    </tr>\n",
              "    <tr>\n",
              "      <th>rs35212307</th>\n",
              "      <td>0.773593</td>\n",
              "    </tr>\n",
              "    <tr>\n",
              "      <th>...</th>\n",
              "      <td>...</td>\n",
              "    </tr>\n",
              "    <tr>\n",
              "      <th>rs10494745</th>\n",
              "      <td>0.527804</td>\n",
              "    </tr>\n",
              "    <tr>\n",
              "      <th>rs75770915</th>\n",
              "      <td>0.030031</td>\n",
              "    </tr>\n",
              "    <tr>\n",
              "      <th>rs41301291</th>\n",
              "      <td>0.084038</td>\n",
              "    </tr>\n",
              "    <tr>\n",
              "      <th>rs1281018</th>\n",
              "      <td>0.691700</td>\n",
              "    </tr>\n",
              "    <tr>\n",
              "      <th>rs45563244</th>\n",
              "      <td>0.751978</td>\n",
              "    </tr>\n",
              "  </tbody>\n",
              "</table>\n",
              "<p>14694 rows × 1 columns</p>\n",
              "</div>\n",
              "      <button class=\"colab-df-convert\" onclick=\"convertToInteractive('df-63337ad7-cea0-4fe8-b75c-ba9c8dd62580')\"\n",
              "              title=\"Convert this dataframe to an interactive table.\"\n",
              "              style=\"display:none;\">\n",
              "        \n",
              "  <svg xmlns=\"http://www.w3.org/2000/svg\" height=\"24px\"viewBox=\"0 0 24 24\"\n",
              "       width=\"24px\">\n",
              "    <path d=\"M0 0h24v24H0V0z\" fill=\"none\"/>\n",
              "    <path d=\"M18.56 5.44l.94 2.06.94-2.06 2.06-.94-2.06-.94-.94-2.06-.94 2.06-2.06.94zm-11 1L8.5 8.5l.94-2.06 2.06-.94-2.06-.94L8.5 2.5l-.94 2.06-2.06.94zm10 10l.94 2.06.94-2.06 2.06-.94-2.06-.94-.94-2.06-.94 2.06-2.06.94z\"/><path d=\"M17.41 7.96l-1.37-1.37c-.4-.4-.92-.59-1.43-.59-.52 0-1.04.2-1.43.59L10.3 9.45l-7.72 7.72c-.78.78-.78 2.05 0 2.83L4 21.41c.39.39.9.59 1.41.59.51 0 1.02-.2 1.41-.59l7.78-7.78 2.81-2.81c.8-.78.8-2.07 0-2.86zM5.41 20L4 18.59l7.72-7.72 1.47 1.35L5.41 20z\"/>\n",
              "  </svg>\n",
              "      </button>\n",
              "      \n",
              "  <style>\n",
              "    .colab-df-container {\n",
              "      display:flex;\n",
              "      flex-wrap:wrap;\n",
              "      gap: 12px;\n",
              "    }\n",
              "\n",
              "    .colab-df-convert {\n",
              "      background-color: #E8F0FE;\n",
              "      border: none;\n",
              "      border-radius: 50%;\n",
              "      cursor: pointer;\n",
              "      display: none;\n",
              "      fill: #1967D2;\n",
              "      height: 32px;\n",
              "      padding: 0 0 0 0;\n",
              "      width: 32px;\n",
              "    }\n",
              "\n",
              "    .colab-df-convert:hover {\n",
              "      background-color: #E2EBFA;\n",
              "      box-shadow: 0px 1px 2px rgba(60, 64, 67, 0.3), 0px 1px 3px 1px rgba(60, 64, 67, 0.15);\n",
              "      fill: #174EA6;\n",
              "    }\n",
              "\n",
              "    [theme=dark] .colab-df-convert {\n",
              "      background-color: #3B4455;\n",
              "      fill: #D2E3FC;\n",
              "    }\n",
              "\n",
              "    [theme=dark] .colab-df-convert:hover {\n",
              "      background-color: #434B5C;\n",
              "      box-shadow: 0px 1px 3px 1px rgba(0, 0, 0, 0.15);\n",
              "      filter: drop-shadow(0px 1px 2px rgba(0, 0, 0, 0.3));\n",
              "      fill: #FFFFFF;\n",
              "    }\n",
              "  </style>\n",
              "\n",
              "      <script>\n",
              "        const buttonEl =\n",
              "          document.querySelector('#df-63337ad7-cea0-4fe8-b75c-ba9c8dd62580 button.colab-df-convert');\n",
              "        buttonEl.style.display =\n",
              "          google.colab.kernel.accessAllowed ? 'block' : 'none';\n",
              "\n",
              "        async function convertToInteractive(key) {\n",
              "          const element = document.querySelector('#df-63337ad7-cea0-4fe8-b75c-ba9c8dd62580');\n",
              "          const dataTable =\n",
              "            await google.colab.kernel.invokeFunction('convertToInteractive',\n",
              "                                                     [key], {});\n",
              "          if (!dataTable) return;\n",
              "\n",
              "          const docLinkHtml = 'Like what you see? Visit the ' +\n",
              "            '<a target=\"_blank\" href=https://colab.research.google.com/notebooks/data_table.ipynb>data table notebook</a>'\n",
              "            + ' to learn more about interactive tables.';\n",
              "          element.innerHTML = '';\n",
              "          dataTable['output_type'] = 'display_data';\n",
              "          await google.colab.output.renderOutput(dataTable, element);\n",
              "          const docLink = document.createElement('div');\n",
              "          docLink.innerHTML = docLinkHtml;\n",
              "          element.appendChild(docLink);\n",
              "        }\n",
              "      </script>\n",
              "    </div>\n",
              "  </div>\n",
              "  "
            ],
            "text/plain": [
              "                   p\n",
              "snp                 \n",
              "rs61730415  0.595980\n",
              "rs35495464  0.329128\n",
              "rs2230370   0.638604\n",
              "rs56038532  0.733988\n",
              "rs35212307  0.773593\n",
              "...              ...\n",
              "rs10494745  0.527804\n",
              "rs75770915  0.030031\n",
              "rs41301291  0.084038\n",
              "rs1281018   0.691700\n",
              "rs45563244  0.751978\n",
              "\n",
              "[14694 rows x 1 columns]"
            ]
          },
          "execution_count": 10,
          "metadata": {},
          "output_type": "execute_result"
        }
      ],
      "source": [
        "#see which snps are in geno bin df\n",
        "subset_snps = snp_df_indexed[snp_df_indexed.index.isin(dfnew.columns)]\n",
        "subset_snps"
      ]
    },
    {
      "cell_type": "code",
      "execution_count": null,
      "metadata": {
        "colab": {
          "base_uri": "https://localhost:8080/",
          "height": 455
        },
        "id": "mkWsSuTg1GVk",
        "outputId": "aebf8ff4-ca72-485f-b004-3be0649e94ce"
      },
      "outputs": [
        {
          "data": {
            "text/html": [
              "\n",
              "  <div id=\"df-f21df51d-77c4-44e7-945f-089395a0ccd6\">\n",
              "    <div class=\"colab-df-container\">\n",
              "      <div>\n",
              "<style scoped>\n",
              "    .dataframe tbody tr th:only-of-type {\n",
              "        vertical-align: middle;\n",
              "    }\n",
              "\n",
              "    .dataframe tbody tr th {\n",
              "        vertical-align: top;\n",
              "    }\n",
              "\n",
              "    .dataframe thead th {\n",
              "        text-align: right;\n",
              "    }\n",
              "</style>\n",
              "<table border=\"1\" class=\"dataframe\">\n",
              "  <thead>\n",
              "    <tr style=\"text-align: right;\">\n",
              "      <th></th>\n",
              "      <th>p</th>\n",
              "    </tr>\n",
              "    <tr>\n",
              "      <th>snp</th>\n",
              "      <th></th>\n",
              "    </tr>\n",
              "  </thead>\n",
              "  <tbody>\n",
              "    <tr>\n",
              "      <th>rs75087725</th>\n",
              "      <td>2.647800e-09</td>\n",
              "    </tr>\n",
              "    <tr>\n",
              "      <th>rs41292019</th>\n",
              "      <td>1.345770e-07</td>\n",
              "    </tr>\n",
              "    <tr>\n",
              "      <th>rs35098198</th>\n",
              "      <td>8.810680e-06</td>\n",
              "    </tr>\n",
              "    <tr>\n",
              "      <th>rs113247976</th>\n",
              "      <td>1.217590e-05</td>\n",
              "    </tr>\n",
              "    <tr>\n",
              "      <th>rs752493</th>\n",
              "      <td>5.116190e-05</td>\n",
              "    </tr>\n",
              "    <tr>\n",
              "      <th>...</th>\n",
              "      <td>...</td>\n",
              "    </tr>\n",
              "    <tr>\n",
              "      <th>rs33958906</th>\n",
              "      <td>9.997540e-01</td>\n",
              "    </tr>\n",
              "    <tr>\n",
              "      <th>rs80029472</th>\n",
              "      <td>9.998230e-01</td>\n",
              "    </tr>\n",
              "    <tr>\n",
              "      <th>rs10872326</th>\n",
              "      <td>9.998250e-01</td>\n",
              "    </tr>\n",
              "    <tr>\n",
              "      <th>rs17099450</th>\n",
              "      <td>9.999520e-01</td>\n",
              "    </tr>\n",
              "    <tr>\n",
              "      <th>rs76746996</th>\n",
              "      <td>9.999730e-01</td>\n",
              "    </tr>\n",
              "  </tbody>\n",
              "</table>\n",
              "<p>14694 rows × 1 columns</p>\n",
              "</div>\n",
              "      <button class=\"colab-df-convert\" onclick=\"convertToInteractive('df-f21df51d-77c4-44e7-945f-089395a0ccd6')\"\n",
              "              title=\"Convert this dataframe to an interactive table.\"\n",
              "              style=\"display:none;\">\n",
              "        \n",
              "  <svg xmlns=\"http://www.w3.org/2000/svg\" height=\"24px\"viewBox=\"0 0 24 24\"\n",
              "       width=\"24px\">\n",
              "    <path d=\"M0 0h24v24H0V0z\" fill=\"none\"/>\n",
              "    <path d=\"M18.56 5.44l.94 2.06.94-2.06 2.06-.94-2.06-.94-.94-2.06-.94 2.06-2.06.94zm-11 1L8.5 8.5l.94-2.06 2.06-.94-2.06-.94L8.5 2.5l-.94 2.06-2.06.94zm10 10l.94 2.06.94-2.06 2.06-.94-2.06-.94-.94-2.06-.94 2.06-2.06.94z\"/><path d=\"M17.41 7.96l-1.37-1.37c-.4-.4-.92-.59-1.43-.59-.52 0-1.04.2-1.43.59L10.3 9.45l-7.72 7.72c-.78.78-.78 2.05 0 2.83L4 21.41c.39.39.9.59 1.41.59.51 0 1.02-.2 1.41-.59l7.78-7.78 2.81-2.81c.8-.78.8-2.07 0-2.86zM5.41 20L4 18.59l7.72-7.72 1.47 1.35L5.41 20z\"/>\n",
              "  </svg>\n",
              "      </button>\n",
              "      \n",
              "  <style>\n",
              "    .colab-df-container {\n",
              "      display:flex;\n",
              "      flex-wrap:wrap;\n",
              "      gap: 12px;\n",
              "    }\n",
              "\n",
              "    .colab-df-convert {\n",
              "      background-color: #E8F0FE;\n",
              "      border: none;\n",
              "      border-radius: 50%;\n",
              "      cursor: pointer;\n",
              "      display: none;\n",
              "      fill: #1967D2;\n",
              "      height: 32px;\n",
              "      padding: 0 0 0 0;\n",
              "      width: 32px;\n",
              "    }\n",
              "\n",
              "    .colab-df-convert:hover {\n",
              "      background-color: #E2EBFA;\n",
              "      box-shadow: 0px 1px 2px rgba(60, 64, 67, 0.3), 0px 1px 3px 1px rgba(60, 64, 67, 0.15);\n",
              "      fill: #174EA6;\n",
              "    }\n",
              "\n",
              "    [theme=dark] .colab-df-convert {\n",
              "      background-color: #3B4455;\n",
              "      fill: #D2E3FC;\n",
              "    }\n",
              "\n",
              "    [theme=dark] .colab-df-convert:hover {\n",
              "      background-color: #434B5C;\n",
              "      box-shadow: 0px 1px 3px 1px rgba(0, 0, 0, 0.15);\n",
              "      filter: drop-shadow(0px 1px 2px rgba(0, 0, 0, 0.3));\n",
              "      fill: #FFFFFF;\n",
              "    }\n",
              "  </style>\n",
              "\n",
              "      <script>\n",
              "        const buttonEl =\n",
              "          document.querySelector('#df-f21df51d-77c4-44e7-945f-089395a0ccd6 button.colab-df-convert');\n",
              "        buttonEl.style.display =\n",
              "          google.colab.kernel.accessAllowed ? 'block' : 'none';\n",
              "\n",
              "        async function convertToInteractive(key) {\n",
              "          const element = document.querySelector('#df-f21df51d-77c4-44e7-945f-089395a0ccd6');\n",
              "          const dataTable =\n",
              "            await google.colab.kernel.invokeFunction('convertToInteractive',\n",
              "                                                     [key], {});\n",
              "          if (!dataTable) return;\n",
              "\n",
              "          const docLinkHtml = 'Like what you see? Visit the ' +\n",
              "            '<a target=\"_blank\" href=https://colab.research.google.com/notebooks/data_table.ipynb>data table notebook</a>'\n",
              "            + ' to learn more about interactive tables.';\n",
              "          element.innerHTML = '';\n",
              "          dataTable['output_type'] = 'display_data';\n",
              "          await google.colab.output.renderOutput(dataTable, element);\n",
              "          const docLink = document.createElement('div');\n",
              "          docLink.innerHTML = docLinkHtml;\n",
              "          element.appendChild(docLink);\n",
              "        }\n",
              "      </script>\n",
              "    </div>\n",
              "  </div>\n",
              "  "
            ],
            "text/plain": [
              "                        p\n",
              "snp                      \n",
              "rs75087725   2.647800e-09\n",
              "rs41292019   1.345770e-07\n",
              "rs35098198   8.810680e-06\n",
              "rs113247976  1.217590e-05\n",
              "rs752493     5.116190e-05\n",
              "...                   ...\n",
              "rs33958906   9.997540e-01\n",
              "rs80029472   9.998230e-01\n",
              "rs10872326   9.998250e-01\n",
              "rs17099450   9.999520e-01\n",
              "rs76746996   9.999730e-01\n",
              "\n",
              "[14694 rows x 1 columns]"
            ]
          },
          "execution_count": 11,
          "metadata": {},
          "output_type": "execute_result"
        }
      ],
      "source": [
        "#sorting p values in ascending order\n",
        "sorted_snps = subset_snps.sort_values(\"p\")\n",
        "sorted_snps"
      ]
    },
    {
      "cell_type": "code",
      "execution_count": null,
      "metadata": {
        "colab": {
          "base_uri": "https://localhost:8080/"
        },
        "id": "pmfj7PKBIYCa",
        "outputId": "735245b0-3d8f-4124-c653-7e280fe7f54f"
      },
      "outputs": [
        {
          "name": "stdout",
          "output_type": "stream",
          "text": [
            "                        p\n",
            "snp                      \n",
            "rs75087725   2.647800e-09\n",
            "rs41292019   1.345770e-07\n",
            "rs35098198   8.810680e-06\n",
            "rs113247976  1.217590e-05\n",
            "rs752493     5.116190e-05\n",
            "...                   ...\n",
            "rs34820000   6.604170e-03\n",
            "rs5442       6.649820e-03\n",
            "rs79308175   6.678100e-03\n",
            "rs41274674   6.681500e-03\n",
            "rs117479929  6.795960e-03\n",
            "\n",
            "[153 rows x 1 columns]\n"
          ]
        }
      ],
      "source": [
        "ss = sorted_snps.head(153)\n",
        "print(ss)"
      ]
    },
    {
      "cell_type": "code",
      "execution_count": null,
      "metadata": {
        "colab": {
          "base_uri": "https://localhost:8080/"
        },
        "id": "hZJ9P2eZDMfW",
        "outputId": "5d051eb8-7164-4378-8c1f-a0ae23a21ff7"
      },
      "outputs": [
        {
          "name": "stdout",
          "output_type": "stream",
          "text": [
            "                        p\n",
            "snp                      \n",
            "rs75087725   2.647800e-09\n",
            "rs41292019   1.345770e-07\n",
            "rs35098198   8.810680e-06\n",
            "rs113247976  1.217590e-05\n",
            "rs752493     5.116190e-05\n",
            "rs61741802   5.238470e-05\n",
            "rs140610432  6.039300e-05\n",
            "rs61732313   7.594240e-05\n",
            "rs140391716  8.555120e-05\n",
            "rs3747951    1.058030e-04\n",
            "rs2230169    1.066190e-04\n",
            "rs61729556   1.223490e-04\n",
            "rs13093808   1.280000e-04\n",
            "rs2295275    1.316280e-04\n",
            "rs35577851   2.256660e-04\n",
            "rs116497247  2.855440e-04\n",
            "rs148526074  3.434550e-04\n",
            "rs11711953   3.656670e-04\n",
            "rs111376436  5.679310e-04\n",
            "rs61752317   5.786840e-04\n",
            "rs61742924   6.498050e-04\n",
            "rs117043746  6.514380e-04\n",
            "rs25664      6.787910e-04\n",
            "rs7133914    7.521050e-04\n",
            "rs11555978   7.613430e-04\n",
            "rs8087843    7.698300e-04\n",
            "rs8106       7.939750e-04\n",
            "rs3851304    8.550540e-04\n",
            "rs71501812   8.822460e-04\n",
            "rs34757266   9.147620e-04\n",
            "rs11784217   9.215080e-04\n",
            "rs36093393   9.456160e-04\n",
            "rs56335758   9.622070e-04\n",
            "rs2234668    1.018790e-03\n",
            "rs35944172   1.018970e-03\n",
            "rs7308720    1.026960e-03\n",
            "rs11585761   1.043590e-03\n",
            "rs11762125   1.071610e-03\n",
            "rs55910638   1.085630e-03\n",
            "rs17227424   1.097520e-03\n",
            "rs455527     1.196940e-03\n",
            "rs17132707   1.210620e-03\n",
            "rs3809975    1.268820e-03\n",
            "rs7853155    1.292400e-03\n",
            "rs41283425   1.297120e-03\n",
            "rs7655924    1.312150e-03\n",
            "rs1805323    1.392810e-03\n",
            "rs114093789  1.396900e-03\n",
            "rs12319      1.408000e-03\n",
            "rs11175964   1.432340e-03\n",
            "rs55762230   1.438830e-03\n",
            "rs35892913   1.502350e-03\n",
            "rs363075     1.503890e-03\n",
            "rs61737920   1.513900e-03\n",
            "rs3782225    1.594770e-03\n",
            "rs17346397   1.613280e-03\n",
            "rs35066273   1.683010e-03\n",
            "rs3109650    1.685870e-03\n",
            "rs28407189   1.689070e-03\n",
            "rs17508704   1.721090e-03\n",
            "rs115554157  1.846510e-03\n",
            "rs140277704  2.010640e-03\n",
            "rs3093921    2.138940e-03\n",
            "rs79470022   2.153800e-03\n",
            "rs80329914   2.173070e-03\n",
            "rs74369960   2.207870e-03\n",
            "rs2917726    2.229650e-03\n",
            "rs16942341   2.271430e-03\n",
            "rs61733388   2.362250e-03\n",
            "rs34144324   2.375430e-03\n",
            "rs35744844   2.458910e-03\n",
            "rs1044563    2.476930e-03\n",
            "rs35661943   2.511820e-03\n",
            "rs55906165   2.528120e-03\n",
            "rs35929108   2.682360e-03\n",
            "rs62229686   2.696880e-03\n",
            "rs1063571    2.740430e-03\n",
            "rs41295942   2.815670e-03\n",
            "rs11154999   2.893250e-03\n",
            "rs118098282  3.015240e-03\n",
            "rs34173062   3.083980e-03\n",
            "rs61744130   3.122300e-03\n",
            "rs34491125   3.267600e-03\n",
            "rs35777125   3.274580e-03\n",
            "rs115905625  3.297790e-03\n",
            "rs3740165    3.340970e-03\n",
            "rs6004901    3.402380e-03\n",
            "rs10258764   3.490440e-03\n",
            "rs2272727    3.532840e-03\n",
            "rs34221642   3.556510e-03\n",
            "rs17544885   3.611580e-03\n",
            "rs12881869   3.611700e-03\n",
            "rs17182244   3.858280e-03\n",
            "rs1203892    3.882210e-03\n",
            "rs17235766   3.923790e-03\n",
            "rs56197520   4.036720e-03\n",
            "rs2278240    4.145710e-03\n",
            "rs3734564    4.174080e-03\n",
            "rs33981325   4.185950e-03\n",
            "rs2270844    4.194410e-03\n",
            "rs77179989   4.237480e-03\n",
            "rs56279221   4.269190e-03\n",
            "rs2301868    4.323220e-03\n",
            "rs2294787    4.340390e-03\n",
            "rs35466124   4.379620e-03\n",
            "rs35462609   4.389060e-03\n",
            "rs36078145   4.409720e-03\n",
            "rs34230288   4.455810e-03\n",
            "rs2234698    4.477600e-03\n",
            "rs138835839  4.543080e-03\n",
            "rs41307074   4.655940e-03\n",
            "rs2272852    4.685240e-03\n",
            "rs145013933  4.726980e-03\n",
            "rs9625679    4.783470e-03\n",
            "rs35118457   4.892520e-03\n",
            "rs17152897   4.938570e-03\n",
            "rs11558747   4.942200e-03\n",
            "rs17298941   5.023990e-03\n",
            "rs138705766  5.074520e-03\n",
            "rs2307393    5.107970e-03\n",
            "rs41281892   5.110890e-03\n",
            "rs11542009   5.113440e-03\n",
            "rs9262138    5.122840e-03\n",
            "rs2307389    5.164450e-03\n",
            "rs16919452   5.278780e-03\n",
            "rs17482536   5.371940e-03\n",
            "rs34176695   5.387790e-03\n",
            "rs72480796   5.467830e-03\n",
            "rs17260403   5.481680e-03\n",
            "rs55773507   5.481960e-03\n",
            "rs75463357   5.497620e-03\n",
            "rs1805078    5.592910e-03\n",
            "rs17235038   5.599110e-03\n",
            "rs75072999   5.670190e-03\n",
            "rs2230378    5.670980e-03\n",
            "rs67511110   5.793700e-03\n",
            "rs55686434   5.826350e-03\n",
            "rs140895856  6.040950e-03\n",
            "rs60110245   6.087970e-03\n",
            "rs10914632   6.142090e-03\n",
            "rs35759976   6.201660e-03\n",
            "rs189036928  6.276300e-03\n",
            "rs35795092   6.379180e-03\n",
            "rs71355329   6.442350e-03\n",
            "rs9901675    6.463540e-03\n",
            "rs11907248   6.486530e-03\n",
            "rs76139012   6.578980e-03\n",
            "rs34563995   6.583920e-03\n",
            "rs34820000   6.604170e-03\n",
            "rs5442       6.649820e-03\n",
            "rs79308175   6.678100e-03\n",
            "rs41274674   6.681500e-03\n",
            "rs117479929  6.795960e-03\n"
          ]
        }
      ],
      "source": [
        "pd.set_option(\"display.max_rows\", None, \"display.max_columns\", None)\n",
        "print(ss)"
      ]
    },
    {
      "cell_type": "markdown",
      "metadata": {
        "id": "9RQps1HoiwD6"
      },
      "source": [
        "Machine Learning set-up"
      ]
    },
    {
      "cell_type": "code",
      "execution_count": null,
      "metadata": {
        "colab": {
          "base_uri": "https://localhost:8080/"
        },
        "id": "1Dq6Fw2LaRAl",
        "outputId": "05e67819-663f-43ec-ab60-6da8c533e378"
      },
      "outputs": [
        {
          "data": {
            "text/plain": [
              "Index(['rs75087725', 'rs41292019', 'rs35098198', 'rs113247976', 'rs752493',\n",
              "       'rs61741802', 'rs140610432', 'rs61732313', 'rs140391716', 'rs3747951',\n",
              "       'rs2230169', 'rs61729556', 'rs13093808', 'rs2295275', 'rs35577851',\n",
              "       'rs116497247', 'rs148526074', 'rs11711953', 'rs111376436', 'rs61752317',\n",
              "       'rs61742924', 'rs117043746', 'rs25664', 'rs7133914', 'rs11555978',\n",
              "       'rs8087843', 'rs8106', 'rs3851304', 'rs71501812', 'rs34757266',\n",
              "       'rs11784217', 'rs36093393', 'rs56335758', 'rs2234668', 'rs35944172',\n",
              "       'rs7308720', 'rs11585761', 'rs11762125', 'rs55910638', 'rs17227424',\n",
              "       'rs455527', 'rs17132707', 'rs3809975', 'rs7853155', 'rs41283425',\n",
              "       'rs7655924', 'rs1805323', 'rs114093789', 'rs12319', 'rs11175964',\n",
              "       'rs55762230', 'rs35892913', 'rs363075', 'rs61737920', 'rs3782225',\n",
              "       'rs17346397', 'rs35066273', 'rs3109650', 'rs28407189', 'rs17508704',\n",
              "       'rs115554157', 'rs140277704', 'rs3093921', 'rs79470022', 'rs80329914',\n",
              "       'rs74369960', 'rs2917726', 'rs16942341', 'rs61733388', 'rs34144324',\n",
              "       'rs35744844', 'rs1044563', 'rs35661943', 'rs55906165', 'rs35929108',\n",
              "       'rs62229686', 'rs1063571', 'rs41295942', 'rs11154999', 'rs118098282',\n",
              "       'rs34173062', 'rs61744130', 'rs34491125', 'rs35777125', 'rs115905625',\n",
              "       'rs3740165', 'rs6004901', 'rs10258764', 'rs2272727', 'rs34221642',\n",
              "       'rs17544885', 'rs12881869', 'rs17182244', 'rs1203892', 'rs17235766',\n",
              "       'rs56197520', 'rs2278240', 'rs3734564', 'rs33981325', 'rs2270844'],\n",
              "      dtype='object', name='snp')"
            ]
          },
          "execution_count": 14,
          "metadata": {},
          "output_type": "execute_result"
        }
      ],
      "source": [
        "# Choosing the top __ SNPs\n",
        "totalsnps = 153\n",
        "selected_snps = sorted_snps.iloc[:totalsnps].index\n",
        "selected_snps[:100]"
      ]
    },
    {
      "cell_type": "code",
      "execution_count": null,
      "metadata": {
        "id": "s4spr8h6DOGb"
      },
      "outputs": [],
      "source": [
        ""
      ]
    },
    {
      "cell_type": "code",
      "execution_count": null,
      "metadata": {
        "colab": {
          "base_uri": "https://localhost:8080/"
        },
        "id": "zL9Y8aJfdMAL",
        "outputId": "f681d29a-7ecf-456c-e8bf-7c12c355845a"
      },
      "outputs": [
        {
          "data": {
            "text/plain": [
              "True"
            ]
          },
          "execution_count": 15,
          "metadata": {},
          "output_type": "execute_result"
        }
      ],
      "source": [
        "#subsetting geno bin snps\n",
        "subset_geno_df = dfnew[selected_snps]\n",
        "#checking if rows align\n",
        "np.all(subset_geno_df.index == subset_clinical_df.index)"
      ]
    },
    {
      "cell_type": "code",
      "execution_count": null,
      "metadata": {
        "colab": {
          "base_uri": "https://localhost:8080/"
        },
        "id": "q4UoOO2UdP9h",
        "outputId": "abdd9f5c-9677-4ffd-ea96-440b1dc904a5"
      },
      "outputs": [
        {
          "data": {
            "text/plain": [
              "((153, 153), (153, 1))"
            ]
          },
          "execution_count": 16,
          "metadata": {},
          "output_type": "execute_result"
        }
      ],
      "source": [
        "#New variables for x and y\n",
        "X = subset_geno_df\n",
        "y = subset_clinical_df\n",
        "X.shape, y.shape"
      ]
    },
    {
      "cell_type": "markdown",
      "metadata": {
        "id": "ueWKhAZruaM7"
      },
      "source": [
        "# Machine learning"
      ]
    },
    {
      "cell_type": "code",
      "execution_count": null,
      "metadata": {
        "id": "kUDy0gjJuen3"
      },
      "outputs": [],
      "source": [
        "#imports\n",
        "import sklearn\n",
        "from sklearn import preprocessing\n",
        "from sklearn.model_selection import train_test_split\n",
        "from sklearn.linear_model import LogisticRegression\n",
        "from sklearn import metrics\n",
        "import matplotlib.pyplot as plt\n",
        "from sklearn.ensemble import RandomForestClassifier\n",
        "from sklearn.naive_bayes import GaussianNB\n",
        "from sklearn.metrics import roc_curve, roc_auc_score\n",
        "from sklearn.model_selection import GridSearchCV"
      ]
    },
    {
      "cell_type": "code",
      "execution_count": null,
      "metadata": {
        "id": "nYhz7aEuezeY"
      },
      "outputs": [],
      "source": [
        "#splitting x and y into training and testing\n",
        "X_train, X_test, y_train, y_test = train_test_split(X, y, test_size=0.2, random_state= 42)"
      ]
    },
    {
      "cell_type": "code",
      "execution_count": null,
      "metadata": {
        "colab": {
          "base_uri": "https://localhost:8080/"
        },
        "id": "TWwKuTfvfXGH",
        "outputId": "bdb317e7-74a3-45a9-8e1d-bba3c17092f0"
      },
      "outputs": [
        {
          "name": "stdout",
          "output_type": "stream",
          "text": [
            "(122, 153)\n",
            "(31, 153)\n"
          ]
        }
      ],
      "source": [
        "#checking shape of x objects\n",
        "print(X_train.shape)\n",
        "print(X_test.shape)"
      ]
    },
    {
      "cell_type": "code",
      "execution_count": null,
      "metadata": {
        "id": "HQx9bTqjsb29"
      },
      "outputs": [],
      "source": [
        "#getting class proportions\n",
        "\n",
        "#train_class_proportions = get_class_proportions(X_train) print(train_class_proportions)"
      ]
    },
    {
      "cell_type": "code",
      "execution_count": null,
      "metadata": {
        "colab": {
          "base_uri": "https://localhost:8080/"
        },
        "id": "V8ys7TsFfejO",
        "outputId": "1a196c59-c9c9-4e41-bd4f-858cfa826cea"
      },
      "outputs": [
        {
          "name": "stdout",
          "output_type": "stream",
          "text": [
            "(122, 1)\n",
            "(31, 1)\n"
          ]
        }
      ],
      "source": [
        "#checking shape of y objects\n",
        "print(y_train.shape)\n",
        "print(y_test.shape)"
      ]
    },
    {
      "cell_type": "markdown",
      "metadata": {
        "id": "-VsU8HKVofRH"
      },
      "source": [
        "## Logistic regression"
      ]
    },
    {
      "cell_type": "code",
      "execution_count": null,
      "metadata": {
        "id": "iwFEIbV5ie8V"
      },
      "outputs": [],
      "source": [
        "import numpy as np\n",
        "from sklearn import linear_model, datasets\n",
        "from sklearn.model_selection import GridSearchCV\n",
        "\n",
        "logmodel = LogisticRegression(C = 10e9, penalty = 'l1', solver = 'liblinear')\n",
        "logmodel.fit(X_train, y_train.values.ravel())\n",
        "importances = pd.DataFrame(data={\n",
        "    'Attribute': X_train.columns,\n",
        "    'Importance': logmodel.coef_[0]\n",
        "})\n",
        "importances = importances.sort_values(by='Importance', ascending=False)"
      ]
    },
    {
      "cell_type": "code",
      "execution_count": null,
      "metadata": {
        "colab": {
          "base_uri": "https://localhost:8080/"
        },
        "id": "T2elbeQMZyi3",
        "outputId": "480f6293-e1b1-4855-8153-ff940c1e74d2"
      },
      "outputs": [
        {
          "name": "stdout",
          "output_type": "stream",
          "text": [
            "       Attribute  Importance\n",
            "50    rs55762230   15.395169\n",
            "71     rs1044563   10.606722\n",
            "3    rs113247976    9.504389\n",
            "141  rs189036928    9.391003\n",
            "48       rs12319    9.080334\n",
            "151   rs41274674    8.899210\n",
            "5     rs61741802    8.148106\n",
            "95    rs56197520    7.726039\n",
            "105   rs35462609    7.632593\n",
            "118  rs138705766    7.588271\n",
            "136   rs55686434    7.576564\n",
            "61   rs140277704    7.533453\n",
            "19    rs61752317    7.254628\n",
            "16   rs148526074    7.217700\n",
            "58    rs28407189    6.827520\n",
            "10     rs2230169    6.228669\n",
            "111    rs2272852    5.919872\n",
            "14    rs35577851    5.919069\n",
            "31    rs36093393    5.718219\n",
            "22       rs25664    5.680842\n",
            "84   rs115905625    5.321085\n",
            "115   rs17152897    5.307603\n",
            "60   rs115554157    5.191796\n",
            "87    rs10258764    5.161435\n",
            "114   rs35118457    4.810881\n",
            "125   rs17482536    4.682096\n",
            "62     rs3093921    4.636694\n",
            "17    rs11711953    4.400693\n",
            "128   rs17260403    4.386188\n",
            "73    rs55906165    4.014922\n",
            "137  rs140895856    3.891641\n",
            "41    rs17132707    3.810425\n",
            "130   rs75463357    3.751857\n",
            "28    rs71501812    3.587673\n",
            "81    rs61744130    3.520041\n",
            "144    rs9901675    3.498607\n",
            "11    rs61729556    3.400013\n",
            "140   rs35759976    3.379581\n",
            "18   rs111376436    3.353445\n",
            "15   rs116497247    3.262295\n",
            "80    rs34173062    3.232421\n",
            "86     rs6004901    3.171637\n",
            "67    rs16942341    2.906420\n",
            "65    rs74369960    2.863972\n",
            "75    rs62229686    2.692998\n",
            "2     rs35098198    2.634911\n",
            "37    rs11762125    2.359560\n",
            "99     rs2270844    2.259657\n",
            "106   rs36078145    2.109537\n",
            "107   rs34230288    2.087834\n",
            "79   rs118098282    2.083426\n",
            "146   rs76139012    2.065775\n",
            "33     rs2234668    2.006085\n",
            "147   rs34563995    1.935503\n",
            "38    rs55910638    1.880584\n",
            "150   rs79308175    1.821799\n",
            "122    rs9262138    1.642465\n",
            "121   rs11542009    1.627573\n",
            "39    rs17227424    1.554155\n",
            "102    rs2301868    1.517335\n",
            "13     rs2295275    1.494248\n",
            "29    rs34757266    1.481500\n",
            "83    rs35777125    1.413454\n",
            "57     rs3109650    1.395693\n",
            "27     rs3851304    1.383009\n",
            "64    rs80329914    1.369982\n",
            "40      rs455527    1.167319\n",
            "103    rs2294787    1.137687\n",
            "109  rs138835839    1.005054\n",
            "32    rs56335758    0.882314\n",
            "36    rs11585761    0.703727\n",
            "42     rs3809975    0.663179\n",
            "12    rs13093808    0.631205\n",
            "138   rs60110245    0.596932\n",
            "139   rs10914632    0.589428\n",
            "85     rs3740165    0.498561\n",
            "7     rs61732313    0.492864\n",
            "110   rs41307074    0.487598\n",
            "149       rs5442    0.391954\n",
            "68    rs61733388    0.361937\n",
            "44    rs41283425    0.352075\n",
            "78    rs11154999    0.297251\n",
            "26        rs8106    0.287262\n",
            "4       rs752493    0.187837\n",
            "127   rs72480796    0.177387\n",
            "100   rs77179989    0.172657\n",
            "88     rs2272727    0.138669\n",
            "93     rs1203892    0.088797\n",
            "20    rs61742924   -0.053864\n",
            "134    rs2230378   -0.084014\n",
            "77    rs41295942   -0.101122\n",
            "66     rs2917726   -0.145255\n",
            "76     rs1063571   -0.152802\n",
            "98    rs33981325   -0.153878\n",
            "72    rs35661943   -0.164568\n",
            "113    rs9625679   -0.173373\n",
            "35     rs7308720   -0.180909\n",
            "89    rs34221642   -0.200193\n",
            "21   rs117043746   -0.281547\n",
            "1     rs41292019   -0.299442\n",
            "90    rs17544885   -0.460122\n",
            "56    rs35066273   -0.463643\n",
            "55    rs17346397   -0.509798\n",
            "25     rs8087843   -0.514231\n",
            "74    rs35929108   -0.608788\n",
            "54     rs3782225   -0.616579\n",
            "131    rs1805078   -0.761761\n",
            "43     rs7853155   -0.832863\n",
            "45     rs7655924   -0.855380\n",
            "6    rs140610432   -0.872277\n",
            "63    rs79470022   -0.877951\n",
            "94    rs17235766   -0.879764\n",
            "8    rs140391716   -1.131244\n",
            "117   rs17298941   -1.266746\n",
            "70    rs35744844   -1.348566\n",
            "152  rs117479929   -1.414579\n",
            "51    rs35892913   -1.421038\n",
            "30    rs11784217   -1.571808\n",
            "23     rs7133914   -1.647417\n",
            "52      rs363075   -1.672292\n",
            "108    rs2234698   -1.685834\n",
            "53    rs61737920   -1.730125\n",
            "49    rs11175964   -1.822739\n",
            "59    rs17508704   -1.828193\n",
            "142   rs35795092   -1.857136\n",
            "116   rs11558747   -1.858199\n",
            "101   rs56279221   -1.960684\n",
            "120   rs41281892   -2.145763\n",
            "9      rs3747951   -2.188239\n",
            "46     rs1805323   -2.473587\n",
            "92    rs17182244   -2.679630\n",
            "82    rs34491125   -3.026575\n",
            "145   rs11907248   -3.309840\n",
            "69    rs34144324   -3.328239\n",
            "148   rs34820000   -3.395520\n",
            "126   rs34176695   -3.617292\n",
            "96     rs2278240   -3.941599\n",
            "119    rs2307393   -4.083381\n",
            "143   rs71355329   -4.108796\n",
            "47   rs114093789   -4.221412\n",
            "34    rs35944172   -4.526070\n",
            "133   rs75072999   -4.804655\n",
            "135   rs67511110   -5.077045\n",
            "91    rs12881869   -5.124526\n",
            "132   rs17235038   -5.361855\n",
            "124   rs16919452   -5.481096\n",
            "112  rs145013933   -6.331910\n",
            "104   rs35466124   -7.075651\n",
            "24    rs11555978   -7.146126\n",
            "0     rs75087725   -7.997225\n",
            "97     rs3734564   -8.659354\n",
            "123    rs2307389  -10.964520\n",
            "129   rs55773507  -14.748319\n"
          ]
        }
      ],
      "source": [
        "print(importances)"
      ]
    },
    {
      "cell_type": "code",
      "execution_count": null,
      "metadata": {
        "colab": {
          "base_uri": "https://localhost:8080/",
          "height": 343
        },
        "id": "bIqxh3hVEFv9",
        "outputId": "c64d8d48-fb55-4fe3-b78c-3fd184f480a9"
      },
      "outputs": [
        {
          "data": {
            "image/png": "[encoded data removed]",
            "text/plain": [
              "<Figure size 432x288 with 1 Axes>"
            ]
          },
          "metadata": {},
          "output_type": "display_data"
        }
      ],
      "source": [
        "plt.bar(x=importances['Attribute'], height=importances['Importance'], color='#087E8B')\n",
        "plt.title('Feature importances obtained from coefficients', size=20)\n",
        "plt.xticks(rotation='vertical')\n",
        "plt.show()"
      ]
    },
    {
      "cell_type": "code",
      "execution_count": null,
      "metadata": {
        "colab": {
          "base_uri": "https://localhost:8080/"
        },
        "id": "9xrkbRtpk6v_",
        "outputId": "79e19136-edfc-422e-e5b0-458596433ffe"
      },
      "outputs": [
        {
          "data": {
            "text/plain": [
              "(31,)"
            ]
          },
          "execution_count": 25,
          "metadata": {},
          "output_type": "execute_result"
        }
      ],
      "source": [
        "# predictions on test set\n",
        "predictions = logmodel.predict(X_test)\n",
        "predictions.shape"
      ]
    },
    {
      "cell_type": "code",
      "execution_count": null,
      "metadata": {
        "colab": {
          "base_uri": "https://localhost:8080/"
        },
        "id": "imzN7OrxlJW0",
        "outputId": "780837dd-b270-4823-be2b-4e742f5ee53d"
      },
      "outputs": [
        {
          "name": "stdout",
          "output_type": "stream",
          "text": [
            "0.7096774193548387\n"
          ]
        }
      ],
      "source": [
        "#accuracy score\n",
        "lraccuracy = logmodel.score(X_test, y_test)\n",
        "print(lraccuracy)"
      ]
    },
    {
      "cell_type": "code",
      "execution_count": null,
      "metadata": {
        "colab": {
          "base_uri": "https://localhost:8080/"
        },
        "id": "I9E74MuS6z-B",
        "outputId": "2440f5ec-ada8-41a6-b955-51d75de652d3"
      },
      "outputs": [
        {
          "name": "stdout",
          "output_type": "stream",
          "text": [
            "Fitting 5 folds for each of 40 candidates, totalling 200 fits\n"
          ]
        },
        {
          "name": "stderr",
          "output_type": "stream",
          "text": [
            "/usr/local/lib/python3.7/dist-packages/sklearn/utils/validation.py:993: DataConversionWarning: A column-vector y was passed when a 1d array was expected. Please change the shape of y to (n_samples, ), for example using ravel().\n",
            "  y = column_or_1d(y, warn=True)\n",
            "/usr/local/lib/python3.7/dist-packages/sklearn/linear_model/_sag.py:354: ConvergenceWarning: The max_iter was reached which means the coef_ did not converge\n",
            "  ConvergenceWarning,\n"
          ]
        },
        {
          "data": {
            "text/plain": [
              "GridSearchCV(cv=5, estimator=LogisticRegression(), n_jobs=-1,\n",
              "             param_grid={'C': array([1.00000000e+00, 2.78255940e+00, 7.74263683e+00, 2.15443469e+01,\n",
              "       5.99484250e+01, 1.66810054e+02, 4.64158883e+02, 1.29154967e+03,\n",
              "       3.59381366e+03, 1.00000000e+04]),\n",
              "                         'penalty': ['l1', 'l2'],\n",
              "                         'solver': ['liblinear', 'saga']},\n",
              "             verbose=1)"
            ]
          },
          "execution_count": 27,
          "metadata": {},
          "output_type": "execute_result"
        }
      ],
      "source": [
        "#grid search\n",
        "from sklearn.model_selection import GridSearchCV\n",
        "C = np.logspace(0, 4, num=10)\n",
        "penalty = ['l1', 'l2']\n",
        "solver = ['liblinear', 'saga']\n",
        "hyperparameters = dict(C=C, penalty=penalty, solver=solver)\n",
        "lrmodel_grid = GridSearchCV(estimator=LogisticRegression(), param_grid = hyperparameters, verbose=1, cv=5, n_jobs=-1)\n",
        "lrmodel_grid.fit(X_train, y_train)"
      ]
    },
    {
      "cell_type": "code",
      "execution_count": null,
      "metadata": {
        "colab": {
          "base_uri": "https://localhost:8080/"
        },
        "id": "UGKTHahq_eAM",
        "outputId": "3ca4d070-08b4-4424-f3e8-f0d379914dcc"
      },
      "outputs": [
        {
          "data": {
            "text/plain": [
              "{'C': 2.7825594022071245, 'penalty': 'l1', 'solver': 'saga'}"
            ]
          },
          "execution_count": 28,
          "metadata": {},
          "output_type": "execute_result"
        }
      ],
      "source": [
        "lrmodel_grid.best_params_"
      ]
    },
    {
      "cell_type": "markdown",
      "metadata": {
        "id": "N_H8VCgPrGRo"
      },
      "source": [
        "AUC value : Logistic regression"
      ]
    },
    {
      "cell_type": "code",
      "execution_count": null,
      "metadata": {
        "colab": {
          "base_uri": "https://localhost:8080/"
        },
        "id": "1pDywoWRJPum",
        "outputId": "fb73ddd7-b34d-4140-fd1b-def7f4e331f3"
      },
      "outputs": [
        {
          "name": "stdout",
          "output_type": "stream",
          "text": [
            "1.0\n"
          ]
        }
      ],
      "source": [
        "#training auc\n",
        "#prediction probability\n",
        "trainlogmodel_probs = logmodel.predict_proba(X_train)\n",
        "#positive outcomes?\n",
        "trainlogmodel_probs = trainlogmodel_probs[:,1]\n",
        "trainlogmodel_auc = roc_auc_score(y_train, trainlogmodel_probs)\n",
        "print(trainlogmodel_auc)"
      ]
    },
    {
      "cell_type": "code",
      "execution_count": null,
      "metadata": {
        "id": "iX-JuzdwpG0a"
      },
      "outputs": [],
      "source": [
        "#prediction probability\n",
        "logmodel_probs = logmodel.predict_proba(X_test)\n",
        "#positive outcomes?\n",
        "logmodel_probs = logmodel_probs[:,1]\n"
      ]
    },
    {
      "cell_type": "code",
      "execution_count": null,
      "metadata": {
        "colab": {
          "base_uri": "https://localhost:8080/"
        },
        "id": "jkDdraU4rkfy",
        "outputId": "3c5e75ab-6571-42e4-b975-6c35959256cd"
      },
      "outputs": [
        {
          "name": "stdout",
          "output_type": "stream",
          "text": [
            "0.5333333333333333\n"
          ]
        }
      ],
      "source": [
        "logmodel_auc = roc_auc_score(y_test, logmodel_probs)\n",
        "print(logmodel_auc)"
      ]
    },
    {
      "cell_type": "code",
      "execution_count": null,
      "metadata": {
        "colab": {
          "base_uri": "https://localhost:8080/"
        },
        "id": "RaWHCOM3PFRj",
        "outputId": "039edb51-9913-4cbd-a217-4cfad0113e4e"
      },
      "outputs": [
        {
          "name": "stdout",
          "output_type": "stream",
          "text": [
            "0.8601245088956119\n"
          ]
        }
      ],
      "source": [
        "#AUPR logistic regression\n",
        "from sklearn.metrics import average_precision_score, precision_recall_curve\n",
        "from sklearn.metrics import auc, plot_precision_recall_curve\n",
        "y_score = logmodel.predict_proba(X_test)[:, 1]\n",
        "average_precision = average_precision_score(y_test, y_score, pos_label=\"1\")\n",
        "print(average_precision)"
      ]
    },
    {
      "cell_type": "markdown",
      "metadata": {
        "id": "uLPM0h3AowSg"
      },
      "source": [
        "##Random Forest"
      ]
    },
    {
      "cell_type": "markdown",
      "metadata": {
        "id": "LSAGODqUL8qH"
      },
      "source": [
        "Baseline model"
      ]
    },
    {
      "cell_type": "code",
      "execution_count": null,
      "metadata": {
        "colab": {
          "base_uri": "https://localhost:8080/"
        },
        "id": "FmS_yB2nIPLo",
        "outputId": "82734851-4845-4c18-89ac-d88d730aafb7"
      },
      "outputs": [
        {
          "name": "stderr",
          "output_type": "stream",
          "text": [
            "/usr/local/lib/python3.7/dist-packages/ipykernel_launcher.py:3: DataConversionWarning: A column-vector y was passed when a 1d array was expected. Please change the shape of y to (n_samples,), for example using ravel().\n",
            "  This is separate from the ipykernel package so we can avoid doing imports until\n"
          ]
        },
        {
          "name": "stdout",
          "output_type": "stream",
          "text": [
            "1.0\n"
          ]
        }
      ],
      "source": [
        "#baseline model\n",
        "baselinerf = RandomForestClassifier(bootstrap = True, class_weight = 'balanced', max_depth = 8, min_samples_leaf = 1, min_samples_split = 5, n_estimators =100)\n",
        "baselinerf.fit(X_train, y_train.values)\n",
        "#roc_auc scoring\n",
        "baselinetrainrf_probs = baselinerf.predict_proba(X_train)\n",
        "#positive outcomes?\n",
        "baselinetrainrf_probs = baselinetrainrf_probs[:,1]\n",
        "baselinetrainrf_auc = roc_auc_score(y_train, baselinetrainrf_probs)\n",
        "print(baselinetrainrf_auc)\n"
      ]
    },
    {
      "cell_type": "code",
      "execution_count": null,
      "metadata": {
        "id": "lVTaMKcRb7R1"
      },
      "outputs": [],
      "source": [
        "importances = pd.DataFrame(data={\n",
        "    'Attribute': X_train.columns,\n",
        "    'Importance': baselinerf.feature_importances_\n",
        "})\n",
        "importances = importances.sort_values(by='Importance', ascending=False)"
      ]
    },
    {
      "cell_type": "code",
      "execution_count": null,
      "metadata": {
        "colab": {
          "base_uri": "https://localhost:8080/"
        },
        "id": "yTjoeUWgb_LT",
        "outputId": "c107a16c-e015-40e1-a1a7-74a1ff923612"
      },
      "outputs": [
        {
          "name": "stdout",
          "output_type": "stream",
          "text": [
            "       Attribute    Importance\n",
            "148   rs34820000  3.401529e-02\n",
            "135   rs67511110  2.833847e-02\n",
            "145   rs11907248  2.797539e-02\n",
            "124   rs16919452  2.152852e-02\n",
            "136   rs55686434  2.038369e-02\n",
            "119    rs2307393  1.995578e-02\n",
            "51    rs35892913  1.845919e-02\n",
            "95    rs56197520  1.840892e-02\n",
            "96     rs2278240  1.812536e-02\n",
            "71     rs1044563  1.698281e-02\n",
            "133   rs75072999  1.663535e-02\n",
            "17    rs11711953  1.657935e-02\n",
            "10     rs2230169  1.428144e-02\n",
            "116   rs11558747  1.413298e-02\n",
            "128   rs17260403  1.373823e-02\n",
            "26        rs8106  1.363515e-02\n",
            "52      rs363075  1.363455e-02\n",
            "23     rs7133914  1.357390e-02\n",
            "35     rs7308720  1.269564e-02\n",
            "117   rs17298941  1.268390e-02\n",
            "70    rs35744844  1.211654e-02\n",
            "123    rs2307389  1.166386e-02\n",
            "110   rs41307074  1.132701e-02\n",
            "63    rs79470022  1.122734e-02\n",
            "27     rs3851304  1.097305e-02\n",
            "59    rs17508704  1.088549e-02\n",
            "31    rs36093393  1.079336e-02\n",
            "48       rs12319  1.034420e-02\n",
            "151   rs41274674  9.866301e-03\n",
            "76     rs1063571  9.728723e-03\n",
            "144    rs9901675  9.716475e-03\n",
            "49    rs11175964  9.634498e-03\n",
            "36    rs11585761  9.356052e-03\n",
            "34    rs35944172  9.336096e-03\n",
            "80    rs34173062  9.283884e-03\n",
            "106   rs36078145  9.192650e-03\n",
            "131    rs1805078  9.168544e-03\n",
            "83    rs35777125  8.833432e-03\n",
            "13     rs2295275  8.824308e-03\n",
            "41    rs17132707  8.816714e-03\n",
            "138   rs60110245  8.654301e-03\n",
            "127   rs72480796  8.619080e-03\n",
            "104   rs35466124  8.528278e-03\n",
            "54     rs3782225  8.416235e-03\n",
            "121   rs11542009  8.414504e-03\n",
            "39    rs17227424  8.253261e-03\n",
            "82    rs34491125  8.205088e-03\n",
            "47   rs114093789  7.905092e-03\n",
            "30    rs11784217  7.881508e-03\n",
            "22       rs25664  7.585798e-03\n",
            "66     rs2917726  7.485702e-03\n",
            "105   rs35462609  7.350361e-03\n",
            "101   rs56279221  7.343584e-03\n",
            "74    rs35929108  7.008367e-03\n",
            "38    rs55910638  7.006460e-03\n",
            "140   rs35759976  6.864250e-03\n",
            "32    rs56335758  6.810094e-03\n",
            "67    rs16942341  6.706341e-03\n",
            "120   rs41281892  6.702048e-03\n",
            "134    rs2230378  6.658750e-03\n",
            "43     rs7853155  6.519656e-03\n",
            "142   rs35795092  6.460611e-03\n",
            "1     rs41292019  6.400661e-03\n",
            "37    rs11762125  6.302769e-03\n",
            "68    rs61733388  6.284016e-03\n",
            "53    rs61737920  6.183899e-03\n",
            "99     rs2270844  6.166621e-03\n",
            "129   rs55773507  6.129733e-03\n",
            "72    rs35661943  6.074626e-03\n",
            "114   rs35118457  5.910989e-03\n",
            "85     rs3740165  5.718548e-03\n",
            "79   rs118098282  5.657831e-03\n",
            "29    rs34757266  5.552837e-03\n",
            "73    rs55906165  5.531725e-03\n",
            "89    rs34221642  5.500946e-03\n",
            "33     rs2234668  5.477047e-03\n",
            "86     rs6004901  5.340968e-03\n",
            "8    rs140391716  5.133394e-03\n",
            "25     rs8087843  5.054153e-03\n",
            "57     rs3109650  4.953536e-03\n",
            "12    rs13093808  4.769666e-03\n",
            "46     rs1805323  4.632069e-03\n",
            "40      rs455527  4.617872e-03\n",
            "69    rs34144324  4.476667e-03\n",
            "150   rs79308175  4.438332e-03\n",
            "143   rs71355329  4.426515e-03\n",
            "24    rs11555978  4.183570e-03\n",
            "20    rs61742924  4.177807e-03\n",
            "147   rs34563995  4.018552e-03\n",
            "132   rs17235038  3.988621e-03\n",
            "122    rs9262138  3.804576e-03\n",
            "7     rs61732313  3.706611e-03\n",
            "64    rs80329914  3.699472e-03\n",
            "56    rs35066273  3.697825e-03\n",
            "78    rs11154999  3.589556e-03\n",
            "91    rs12881869  3.472410e-03\n",
            "6    rs140610432  3.439791e-03\n",
            "21   rs117043746  3.355339e-03\n",
            "44    rs41283425  3.353351e-03\n",
            "28    rs71501812  3.294510e-03\n",
            "130   rs75463357  3.227055e-03\n",
            "126   rs34176695  3.167330e-03\n",
            "88     rs2272727  3.144981e-03\n",
            "55    rs17346397  3.093069e-03\n",
            "92    rs17182244  2.770088e-03\n",
            "103    rs2294787  2.758507e-03\n",
            "94    rs17235766  2.710382e-03\n",
            "87    rs10258764  2.641424e-03\n",
            "93     rs1203892  2.582228e-03\n",
            "45     rs7655924  2.554752e-03\n",
            "18   rs111376436  2.516346e-03\n",
            "109  rs138835839  2.501526e-03\n",
            "107   rs34230288  2.412464e-03\n",
            "77    rs41295942  2.165388e-03\n",
            "98    rs33981325  2.129239e-03\n",
            "90    rs17544885  2.116780e-03\n",
            "141  rs189036928  2.037989e-03\n",
            "4       rs752493  1.964561e-03\n",
            "100   rs77179989  1.940420e-03\n",
            "149       rs5442  1.917295e-03\n",
            "102    rs2301868  1.898686e-03\n",
            "58    rs28407189  1.881409e-03\n",
            "42     rs3809975  1.854822e-03\n",
            "14    rs35577851  1.809203e-03\n",
            "139   rs10914632  1.793413e-03\n",
            "137  rs140895856  1.757417e-03\n",
            "112  rs145013933  1.744005e-03\n",
            "118  rs138705766  1.721448e-03\n",
            "62     rs3093921  1.582528e-03\n",
            "146   rs76139012  1.515812e-03\n",
            "152  rs117479929  1.473053e-03\n",
            "115   rs17152897  1.416921e-03\n",
            "75    rs62229686  1.384989e-03\n",
            "5     rs61741802  1.314574e-03\n",
            "15   rs116497247  1.244457e-03\n",
            "97     rs3734564  1.155948e-03\n",
            "9      rs3747951  1.108174e-03\n",
            "60   rs115554157  1.091534e-03\n",
            "81    rs61744130  1.075977e-03\n",
            "0     rs75087725  1.070473e-03\n",
            "2     rs35098198  9.273973e-04\n",
            "113    rs9625679  8.314969e-04\n",
            "16   rs148526074  8.105443e-04\n",
            "11    rs61729556  6.679530e-04\n",
            "111    rs2272852  5.801071e-04\n",
            "50    rs55762230  5.673797e-04\n",
            "61   rs140277704  4.013015e-04\n",
            "108    rs2234698  2.179422e-04\n",
            "65    rs74369960  5.678971e-17\n",
            "84   rs115905625  2.328589e-17\n",
            "3    rs113247976  1.829665e-17\n",
            "19    rs61752317  1.766057e-17\n",
            "125   rs17482536  0.000000e+00\n"
          ]
        }
      ],
      "source": [
        "print(importances)"
      ]
    },
    {
      "cell_type": "code",
      "execution_count": null,
      "metadata": {
        "colab": {
          "base_uri": "https://localhost:8080/"
        },
        "id": "C55GZdUtJwrO",
        "outputId": "206140fa-fa4a-4dd3-f4fa-9542c7a8d737"
      },
      "outputs": [
        {
          "name": "stdout",
          "output_type": "stream",
          "text": [
            "0.5666666666666667\n"
          ]
        }
      ],
      "source": [
        "#baseline testing AUC_ROC\n",
        "baselinetestrf_probs = baselinerf.predict_proba(X_test)\n",
        "baselinerf_probs = baselinetestrf_probs[:,1]\n",
        "baselinetestrf_auc = roc_auc_score(y_test, baselinerf_probs)\n",
        "print(baselinetestrf_auc)"
      ]
    },
    {
      "cell_type": "code",
      "execution_count": null,
      "metadata": {
        "colab": {
          "base_uri": "https://localhost:8080/"
        },
        "id": "yGIgHA907PBk",
        "outputId": "eba57bbc-5e54-488d-b91e-6bb0683a073d"
      },
      "outputs": [
        {
          "name": "stdout",
          "output_type": "stream",
          "text": [
            "0.8064516129032258\n"
          ]
        }
      ],
      "source": [
        "rfaccuracy = baselinerf.score(X_test, y_test)\n",
        "print(rfaccuracy)"
      ]
    },
    {
      "cell_type": "markdown",
      "metadata": {
        "id": "iCSxt0a5L-3Y"
      },
      "source": [
        "Manually tuning parameters model"
      ]
    },
    {
      "cell_type": "code",
      "execution_count": null,
      "metadata": {
        "colab": {
          "base_uri": "https://localhost:8080/"
        },
        "id": "8fsxFewvI73C",
        "outputId": "3feaebdb-26fc-4ddc-d714-69c4a0516a18"
      },
      "outputs": [
        {
          "name": "stdout",
          "output_type": "stream",
          "text": [
            "1.0\n"
          ]
        }
      ],
      "source": [
        "#manually tuning parameters\n",
        "manualrf = RandomForestClassifier(n_estimators = 100000, class_weight = \"balanced\", max_depth = 8)\n",
        "manualrf.fit(X_train, y_train.values.ravel())\n",
        "#manual roc_auc TRAINING score\n",
        "manualtrainrf_probs = manualrf.predict_proba(X_train)\n",
        "manualtrainrf_probs = manualtrainrf_probs[:,1]\n",
        "manualtrainrf_auc = roc_auc_score(y_train, manualtrainrf_probs)\n",
        "print(manualtrainrf_auc)\n"
      ]
    },
    {
      "cell_type": "code",
      "execution_count": null,
      "metadata": {
        "colab": {
          "base_uri": "https://localhost:8080/"
        },
        "id": "BDaw8gxMLJFm",
        "outputId": "372180ab-94a2-4c3c-de80-3a9a97ea5ebf"
      },
      "outputs": [
        {
          "name": "stdout",
          "output_type": "stream",
          "text": [
            "0.5733333333333334\n"
          ]
        }
      ],
      "source": [
        "#manual testing AUC_ROC\n",
        "manualtestrf_probs = manualrf.predict_proba(X_test)\n",
        "manualrf_probs = manualtestrf_probs[:,1]\n",
        "manualtestrf_auc = roc_auc_score(y_test, manualrf_probs)\n",
        "print(manualtestrf_auc)"
      ]
    },
    {
      "cell_type": "code",
      "execution_count": null,
      "metadata": {
        "colab": {
          "base_uri": "https://localhost:8080/"
        },
        "id": "1CPZgudfQbx3",
        "outputId": "01749028-b1c3-4610-9fe3-48067f0ad16a"
      },
      "outputs": [
        {
          "name": "stdout",
          "output_type": "stream",
          "text": [
            "0.8762211161749858\n"
          ]
        }
      ],
      "source": [
        "#AUPR\n",
        "rfy_score = manualrf.predict_proba(X_test)[:, 1]\n",
        "average_precision = average_precision_score(y_test, rfy_score, pos_label='1' ) \n",
        "print(average_precision)\n"
      ]
    },
    {
      "cell_type": "markdown",
      "metadata": {
        "id": "IV3WTuRzMEVb"
      },
      "source": [
        "Grid search model"
      ]
    },
    {
      "cell_type": "code",
      "execution_count": null,
      "metadata": {
        "colab": {
          "base_uri": "https://localhost:8080/"
        },
        "id": "JeGWX-GIEDoW",
        "outputId": "e14fcd49-1f70-4bb1-cf5e-740084c5c4f7"
      },
      "outputs": [
        {
          "name": "stdout",
          "output_type": "stream",
          "text": [
            "{'bootstrap': [True, False],\n",
            " 'max_depth': [10, 20, 30, 40, 50, 60, 70, 80, 90, 100, 110, None],\n",
            " 'max_features': ['auto', 'sqrt'],\n",
            " 'min_samples_leaf': [1, 2, 4],\n",
            " 'min_samples_split': [2, 5, 10],\n",
            " 'n_estimators': [200, 400, 600, 800, 1000, 1200, 1400, 1600, 1800, 2000]}\n"
          ]
        },
        {
          "data": {
            "text/plain": [
              "{'bootstrap': [True, False],\n",
              " 'max_depth': [10, 20, 30, 40, 50, 60, 70, 80, 90, 100, None],\n",
              " 'max_features': ['auto', 'sqrt'],\n",
              " 'min_samples_leaf': [1, 2, 4],\n",
              " 'min_samples_split': [2, 5, 10],\n",
              " 'n_estimators': [200, 400, 600, 800, 1000, 1200, 1400, 1600, 1800, 2000]}"
            ]
          },
          "execution_count": 41,
          "metadata": {},
          "output_type": "execute_result"
        }
      ],
      "source": [
        "from sklearn.model_selection import RandomizedSearchCV\n",
        "from pprint import pprint\n",
        "#CROSS VALIDATION PARAMS\n",
        "n_estimators = [int(x) for x in np.linspace(start = 200, stop = 2000, num = 10)]\n",
        "max_features = ['auto', 'sqrt']\n",
        "max_depth = [int(x) for x in np.linspace(10, 110, num = 11)]\n",
        "max_depth.append(None)\n",
        "min_samples_split = [2, 5, 10]\n",
        "min_samples_leaf = [1, 2, 4]\n",
        "bootstrap = [True, False]\n",
        "#grid of random parameters\n",
        "random_grid = {'n_estimators': n_estimators,\n",
        "               'max_features': max_features,\n",
        "               'max_depth': max_depth,\n",
        "               'min_samples_split': min_samples_split,\n",
        "               'min_samples_leaf': min_samples_leaf,\n",
        "               'bootstrap': bootstrap}\n",
        "pprint(random_grid)\n",
        "{'bootstrap': [True, False],\n",
        " 'max_depth': [10, 20, 30, 40, 50, 60, 70, 80, 90, 100, None],\n",
        " 'max_features': ['auto', 'sqrt'],\n",
        " 'min_samples_leaf': [1, 2, 4],\n",
        " 'min_samples_split': [2, 5, 10],\n",
        " 'n_estimators': [200, 400, 600, 800, 1000, 1200, 1400, 1600, 1800, 2000]}"
      ]
    },
    {
      "cell_type": "code",
      "execution_count": null,
      "metadata": {
        "colab": {
          "base_uri": "https://localhost:8080/"
        },
        "id": "WZSsdqeoGCHG",
        "outputId": "9354caa8-67a3-499a-e3ca-273bf93776d4"
      },
      "outputs": [
        {
          "name": "stdout",
          "output_type": "stream",
          "text": [
            "Fitting 3 folds for each of 100 candidates, totalling 300 fits\n"
          ]
        },
        {
          "name": "stderr",
          "output_type": "stream",
          "text": [
            "/usr/local/lib/python3.7/dist-packages/sklearn/model_selection/_search.py:926: DataConversionWarning: A column-vector y was passed when a 1d array was expected. Please change the shape of y to (n_samples,), for example using ravel().\n",
            "  self.best_estimator_.fit(X, y, **fit_params)\n"
          ]
        },
        {
          "data": {
            "text/plain": [
              "RandomizedSearchCV(cv=3, estimator=RandomForestClassifier(), n_iter=100,\n",
              "                   n_jobs=-1,\n",
              "                   param_distributions={'bootstrap': [True, False],\n",
              "                                        'max_depth': [10, 20, 30, 40, 50, 60,\n",
              "                                                      70, 80, 90, 100, 110,\n",
              "                                                      None],\n",
              "                                        'max_features': ['auto', 'sqrt'],\n",
              "                                        'min_samples_leaf': [1, 2, 4],\n",
              "                                        'min_samples_split': [2, 5, 10],\n",
              "                                        'n_estimators': [200, 400, 600, 800,\n",
              "                                                         1000, 1200, 1400, 1600,\n",
              "                                                         1800, 2000]},\n",
              "                   random_state=42, verbose=2)"
            ]
          },
          "execution_count": 42,
          "metadata": {},
          "output_type": "execute_result"
        }
      ],
      "source": [
        "#using grid to find best parameters\n",
        "rfmodel = RandomForestClassifier()\n",
        "rf_random = RandomizedSearchCV(estimator = rfmodel, param_distributions = random_grid, n_iter = 100, cv = 3, verbose=2, random_state=42, n_jobs = -1)\n",
        "rf_random.fit(X_train, y_train)\n"
      ]
    },
    {
      "cell_type": "code",
      "execution_count": null,
      "metadata": {
        "colab": {
          "base_uri": "https://localhost:8080/"
        },
        "id": "Wn1m7KosHqsU",
        "outputId": "95766bb5-7276-438e-9226-c332db0fcbff"
      },
      "outputs": [
        {
          "data": {
            "text/plain": [
              "{'bootstrap': True,\n",
              " 'max_depth': 30,\n",
              " 'max_features': 'sqrt',\n",
              " 'min_samples_leaf': 1,\n",
              " 'min_samples_split': 5,\n",
              " 'n_estimators': 400}"
            ]
          },
          "execution_count": 43,
          "metadata": {},
          "output_type": "execute_result"
        }
      ],
      "source": [
        "#finding best parameters\n",
        "rf_random.best_params_"
      ]
    },
    {
      "cell_type": "code",
      "execution_count": null,
      "metadata": {
        "colab": {
          "base_uri": "https://localhost:8080/"
        },
        "id": "SjewnPjSH2jI",
        "outputId": "b04f5f9a-2697-4ccc-a851-d5b579525df9"
      },
      "outputs": [
        {
          "name": "stdout",
          "output_type": "stream",
          "text": [
            "Fitting 3 folds for each of 216 candidates, totalling 648 fits\n"
          ]
        },
        {
          "name": "stderr",
          "output_type": "stream",
          "text": [
            "/usr/local/lib/python3.7/dist-packages/sklearn/model_selection/_search.py:926: DataConversionWarning: A column-vector y was passed when a 1d array was expected. Please change the shape of y to (n_samples,), for example using ravel().\n",
            "  self.best_estimator_.fit(X, y, **fit_params)\n"
          ]
        },
        {
          "data": {
            "text/plain": [
              "GridSearchCV(cv=3, estimator=RandomForestClassifier(), n_jobs=-1,\n",
              "             param_grid={'bootstrap': [True],\n",
              "                         'max_depth': [20, 30, 40, 50, 60, 70],\n",
              "                         'max_features': ['sqrt'],\n",
              "                         'min_samples_leaf': [1, 2, 3],\n",
              "                         'min_samples_split': [4, 5, 6],\n",
              "                         'n_estimators': [100, 200, 300, 1000]},\n",
              "             verbose=2)"
            ]
          },
          "execution_count": 44,
          "metadata": {},
          "output_type": "execute_result"
        }
      ],
      "source": [
        "#grid search CV using best parameters from random search\n",
        "from sklearn.model_selection import GridSearchCV\n",
        "# Create the parameter grid based on the results of random search \n",
        "param_grid = {\n",
        "    'bootstrap': [True],\n",
        "    'max_depth': [20, 30, 40, 50, 60, 70],\n",
        "    'max_features': ['sqrt'],\n",
        "    'min_samples_leaf': [1, 2, 3],\n",
        "    'min_samples_split': [4, 5, 6],\n",
        "    'n_estimators': [100, 200, 300, 1000]\n",
        "}\n",
        "gridsearchrf = RandomForestClassifier()\n",
        "gridsearch = GridSearchCV(estimator = gridsearchrf, param_grid = param_grid, cv = 3, n_jobs = -1, verbose = 2)\n",
        "gridsearch.fit(X_train, y_train)\n"
      ]
    },
    {
      "cell_type": "code",
      "execution_count": null,
      "metadata": {
        "colab": {
          "base_uri": "https://localhost:8080/"
        },
        "id": "I3HkcdTKPSB8",
        "outputId": "c73b857b-82d2-4fc3-c159-41f949769907"
      },
      "outputs": [
        {
          "data": {
            "text/plain": [
              "{'bootstrap': True,\n",
              " 'max_depth': 20,\n",
              " 'max_features': 'sqrt',\n",
              " 'min_samples_leaf': 1,\n",
              " 'min_samples_split': 4,\n",
              " 'n_estimators': 100}"
            ]
          },
          "execution_count": 45,
          "metadata": {},
          "output_type": "execute_result"
        }
      ],
      "source": [
        "gridsearch.best_params_"
      ]
    },
    {
      "cell_type": "code",
      "execution_count": null,
      "metadata": {
        "colab": {
          "base_uri": "https://localhost:8080/"
        },
        "id": "dTa8H--OQ3Oj",
        "outputId": "ab3f4624-4542-43d6-a880-7979ae93907b"
      },
      "outputs": [
        {
          "name": "stdout",
          "output_type": "stream",
          "text": [
            "1.0\n"
          ]
        }
      ],
      "source": [
        "#TRAINING AUC\n",
        "gridmodel = gridsearch.best_estimator_\n",
        "gridmodel_probs = gridmodel.predict_proba(X_train)\n",
        "#positive outcomes?\n",
        "gridmodeltrain_probs = gridmodel_probs[:,1]\n",
        "gridmodeltrain_auc = roc_auc_score(y_train, gridmodeltrain_probs)\n",
        "print(gridmodeltrain_auc)"
      ]
    },
    {
      "cell_type": "code",
      "execution_count": null,
      "metadata": {
        "colab": {
          "base_uri": "https://localhost:8080/"
        },
        "id": "LXZ3zL5gR4a5",
        "outputId": "e738158c-764e-4f47-de2f-da89a35b3cd0"
      },
      "outputs": [
        {
          "name": "stdout",
          "output_type": "stream",
          "text": [
            "0.43333333333333335\n"
          ]
        }
      ],
      "source": [
        "#TESTING AUC\n",
        "gridmodel_probs = gridmodel.predict_proba(X_test)\n",
        "#positive outcomes?\n",
        "gridmodeltest_probs = gridmodel_probs[:,1]\n",
        "gridmodeltest_auc = roc_auc_score(y_test, gridmodeltest_probs)\n",
        "print(gridmodeltest_auc)"
      ]
    },
    {
      "cell_type": "markdown",
      "metadata": {
        "id": "108CsN6FEuws"
      },
      "source": [
        "##Naive Bayes"
      ]
    },
    {
      "cell_type": "code",
      "execution_count": null,
      "metadata": {
        "colab": {
          "base_uri": "https://localhost:8080/"
        },
        "id": "z4IYdaWqEyBI",
        "outputId": "1594de22-83a8-44ef-e8fb-85f636eae6da"
      },
      "outputs": [
        {
          "data": {
            "text/plain": [
              "GaussianNB(var_smoothing=0.03511191734215131)"
            ]
          },
          "execution_count": 48,
          "metadata": {},
          "output_type": "execute_result"
        }
      ],
      "source": [
        "nb = GaussianNB(var_smoothing = 0.03511191734215131)\n",
        "nb.fit(X_train, y_train.values.ravel())"
      ]
    },
    {
      "cell_type": "code",
      "execution_count": null,
      "metadata": {
        "colab": {
          "base_uri": "https://localhost:8080/"
        },
        "id": "Tclzc5PUFLaF",
        "outputId": "cedf7721-d539-4197-957e-203964b30bc9"
      },
      "outputs": [
        {
          "name": "stdout",
          "output_type": "stream",
          "text": [
            "0.8387096774193549\n"
          ]
        }
      ],
      "source": [
        "nbaccuracy = nb.score(X_test, y_test)\n",
        "print(nbaccuracy)"
      ]
    },
    {
      "cell_type": "markdown",
      "metadata": {
        "id": "a4O7hN9tFYpx"
      },
      "source": [
        "AUC value: Naive Bayes"
      ]
    },
    {
      "cell_type": "code",
      "execution_count": null,
      "metadata": {
        "id": "qsB4-CDRFbWj"
      },
      "outputs": [],
      "source": [
        "#prediction probability\n",
        "nb_probs = nb.predict_proba(X_test)\n",
        "#positive outcomes?\n",
        "nb_probs = nb_probs[:,1]"
      ]
    },
    {
      "cell_type": "code",
      "execution_count": null,
      "metadata": {
        "colab": {
          "base_uri": "https://localhost:8080/"
        },
        "id": "PDV-Cu8NYOZB",
        "outputId": "adeb9ae3-945b-4627-f540-f21c4fa7f7a7"
      },
      "outputs": [
        {
          "name": "stdout",
          "output_type": "stream",
          "text": [
            "0.984912776991985\n"
          ]
        }
      ],
      "source": [
        "#training auc\n",
        "#prediction probability\n",
        "trainnb_probs = nb.predict_proba(X_train)\n",
        "#positive outcomes?\n",
        "trainnb_probs = trainnb_probs[:,1]\n",
        "trainnb_auc = roc_auc_score(y_train, trainnb_probs)\n",
        "print(trainnb_auc)"
      ]
    },
    {
      "cell_type": "code",
      "execution_count": null,
      "metadata": {
        "colab": {
          "base_uri": "https://localhost:8080/"
        },
        "id": "2t3FeRykEwS1",
        "outputId": "19869b2c-78e7-4b88-8e64-bc484f873cf5"
      },
      "outputs": [
        {
          "name": "stdout",
          "output_type": "stream",
          "text": [
            "0.8433333333333333\n"
          ]
        }
      ],
      "source": [
        "#TESTING AUC\n",
        "nbbaseline_probs = nb.predict_proba(X_test)\n",
        "#positive outcomes?\n",
        "nbbaseline_probs = nbbaseline_probs[:,1]\n",
        "nbbaselinetest_auc = roc_auc_score(y_test, nbbaseline_probs)\n",
        "print(nbbaselinetest_auc)"
      ]
    },
    {
      "cell_type": "code",
      "execution_count": null,
      "metadata": {
        "colab": {
          "base_uri": "https://localhost:8080/"
        },
        "id": "O0al85wkCSxe",
        "outputId": "b7239182-186a-4c33-a98c-894d7f48faa9"
      },
      "outputs": [
        {
          "name": "stdout",
          "output_type": "stream",
          "text": [
            "Fitting 10 folds for each of 100 candidates, totalling 1000 fits\n"
          ]
        },
        {
          "name": "stderr",
          "output_type": "stream",
          "text": [
            "/usr/local/lib/python3.7/dist-packages/sklearn/utils/validation.py:993: DataConversionWarning: A column-vector y was passed when a 1d array was expected. Please change the shape of y to (n_samples, ), for example using ravel().\n",
            "  y = column_or_1d(y, warn=True)\n"
          ]
        },
        {
          "data": {
            "text/plain": [
              "GridSearchCV(cv=10, estimator=GaussianNB(), n_jobs=-1,\n",
              "             param_grid={'var_smoothing': array([1.00000000e+00, 8.11130831e-01, 6.57933225e-01, 5.33669923e-01,\n",
              "       4.32876128e-01, 3.51119173e-01, 2.84803587e-01, 2.31012970e-01,\n",
              "       1.87381742e-01, 1.51991108e-01, 1.23284674e-01, 1.00000000e-01,\n",
              "       8.11130831e-02, 6.57933225e-02, 5.33669923e-02, 4.32876128e-02,\n",
              "       3.51119173e-02, 2.848035...\n",
              "       1.23284674e-07, 1.00000000e-07, 8.11130831e-08, 6.57933225e-08,\n",
              "       5.33669923e-08, 4.32876128e-08, 3.51119173e-08, 2.84803587e-08,\n",
              "       2.31012970e-08, 1.87381742e-08, 1.51991108e-08, 1.23284674e-08,\n",
              "       1.00000000e-08, 8.11130831e-09, 6.57933225e-09, 5.33669923e-09,\n",
              "       4.32876128e-09, 3.51119173e-09, 2.84803587e-09, 2.31012970e-09,\n",
              "       1.87381742e-09, 1.51991108e-09, 1.23284674e-09, 1.00000000e-09])},\n",
              "             verbose=1)"
            ]
          },
          "execution_count": 53,
          "metadata": {},
          "output_type": "execute_result"
        }
      ],
      "source": [
        "#grid search naive bayes\n",
        "param_grid_nb = {\n",
        "    'var_smoothing': np.logspace(0,-9, num=100)\n",
        "}\n",
        "from sklearn.model_selection import GridSearchCV\n",
        "nbmodel_grid = GridSearchCV(estimator=GaussianNB(), param_grid=param_grid_nb, verbose=1, cv=10, n_jobs=-1)\n",
        "nbmodel_grid.fit(X_train, y_train)\n"
      ]
    },
    {
      "cell_type": "code",
      "execution_count": null,
      "metadata": {
        "colab": {
          "base_uri": "https://localhost:8080/"
        },
        "id": "mvv-kMIJCql0",
        "outputId": "c662d9f7-e476-47d6-8e88-1c2a186f511d"
      },
      "outputs": [
        {
          "name": "stdout",
          "output_type": "stream",
          "text": [
            "['1' '1' '1' '1' '0' '1' '0' '1' '1' '1' '1' '1' '1' '1' '1' '1' '1' '0'\n",
            " '1' '1' '1' '0' '1' '1' '1' '1' '1' '0' '1' '1' '1']\n"
          ]
        }
      ],
      "source": [
        "y_pred = nbmodel_grid.predict(X_test)\n",
        "print(y_pred)"
      ]
    },
    {
      "cell_type": "code",
      "execution_count": null,
      "metadata": {
        "colab": {
          "base_uri": "https://localhost:8080/"
        },
        "id": "Ue2AGw6VEDTV",
        "outputId": "b32fcdd9-44a8-42cd-eb81-6aecd188054c"
      },
      "outputs": [
        {
          "data": {
            "text/plain": [
              "{'var_smoothing': 0.03511191734215131}"
            ]
          },
          "execution_count": 55,
          "metadata": {},
          "output_type": "execute_result"
        }
      ],
      "source": [
        "nbmodel_grid.best_params_"
      ]
    },
    {
      "cell_type": "code",
      "execution_count": null,
      "metadata": {
        "colab": {
          "base_uri": "https://localhost:8080/"
        },
        "id": "kvlzfcG-lkqC",
        "outputId": "c3f8c06f-f62c-4c6d-9e22-9138e362c76a"
      },
      "outputs": [
        {
          "name": "stdout",
          "output_type": "stream",
          "text": [
            "0.8387096774193549\n"
          ]
        }
      ],
      "source": [
        "nbaccuracy = nbmodel_grid.score(X_test, y_test)\n",
        "print(nbaccuracy)"
      ]
    },
    {
      "cell_type": "code",
      "execution_count": null,
      "metadata": {
        "colab": {
          "base_uri": "https://localhost:8080/"
        },
        "id": "NuYgfq0BRsRK",
        "outputId": "306261aa-4ebb-455c-c737-973e5c4c23b3"
      },
      "outputs": [
        {
          "name": "stdout",
          "output_type": "stream",
          "text": [
            "0.9430984685565331\n"
          ]
        }
      ],
      "source": [
        "#AUPR\n",
        "nby_score = nb.predict_proba(X_test)[:, 1]\n",
        "average_precision = average_precision_score(y_test, nby_score, pos_label='1') \n",
        "print(average_precision)\n"
      ]
    },
    {
      "cell_type": "markdown",
      "metadata": {
        "id": "lxTGk0c6exdx"
      },
      "source": [
        "Saving the model"
      ]
    },
    {
      "cell_type": "code",
      "execution_count": null,
      "metadata": {
        "id": "SoktnoxYezWl"
      },
      "outputs": [],
      "source": [
        "filename = 'naivebayes_model.sav'\n",
        "pickle.dump(nb, open(filename, 'wb'))"
      ]
    },
    {
      "cell_type": "code",
      "execution_count": null,
      "metadata": {
        "colab": {
          "background_save": true
        },
        "id": "p5OCRl7SfPkN",
        "outputId": "e9f43d33-081b-4e33-9eb8-29e9e7e0ab9d"
      },
      "outputs": [
        {
          "name": "stdout",
          "output_type": "stream",
          "text": [
            "0.8387096774193549\n"
          ]
        }
      ],
      "source": [
        "loaded_model = pickle.load(open(filename, 'rb'))\n",
        "result = loaded_model.score(X_test, y_test)\n",
        "print(result)"
      ]
    }
  ],
  "metadata": {
    "colab": {
      "name": "AI project new.ipynb",
      "provenance": [],
      "include_colab_link": true
    },
    "kernelspec": {
      "display_name": "Python 3",
      "name": "python3"
    },
    "language_info": {
      "name": "python"
    }
  },
  "nbformat": 4,
  "nbformat_minor": 0
}